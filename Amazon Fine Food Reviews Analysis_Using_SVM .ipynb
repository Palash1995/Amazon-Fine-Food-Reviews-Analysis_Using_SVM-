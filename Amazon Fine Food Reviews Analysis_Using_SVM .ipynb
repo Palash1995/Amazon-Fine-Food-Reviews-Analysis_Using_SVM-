{
 "cells": [
  {
   "cell_type": "markdown",
   "metadata": {},
   "source": [
    "# [7] Amazon Fine Food Reviews Analysis\n",
    "\n",
    "\n",
    "Data Source: https://www.kaggle.com/snap/amazon-fine-food-reviews\n",
    "\n",
    "The Amazon Fine Food Reviews dataset consists of reviews of fine foods from Amazon.<br>\n",
    "\n",
    "Number of reviews: 568,454<br>\n",
    "Number of users: 256,059<br>\n",
    "Number of products: 74,258<br>\n",
    "Timespan: Oct 1999 - Oct 2012<br>\n",
    "Number of Attributes/Columns in data: 10 \n",
    "\n",
    "Attribute Information:\n",
    "\n",
    "1. Id\n",
    "2. ProductId - unique identifier for the product\n",
    "3. UserId - unqiue identifier for the user\n",
    "4. ProfileName\n",
    "5. HelpfulnessNumerator - number of users who found the review helpful\n",
    "6. HelpfulnessDenominator - number of users who indicated whether they found the review helpful or not\n",
    "7. Score - rating between 1 and 5\n",
    "8. Time - timestamp for the review\n",
    "9. Summary - brief summary of the review\n",
    "10. Text - text of the review\n",
    "\n",
    "\n",
    "#### Objective:\n",
    "Given a review, determine whether the review is positive (Rating of 4 or 5) or negative (rating of 1 or 2).\n",
    "\n",
    "<br>\n",
    "[Q] How to determine if a review is positive or negative?<br>\n",
    "<br> \n",
    "[Ans] We could use the Score/Rating. A rating of 4 or 5 could be cosnidered a positive review. A review of 1 or 2 could be considered negative. A review of 3 is nuetral and ignored. This is an approximate and proxy way of determining the polarity (positivity/negativity) of a review.\n",
    "\n",
    "\n"
   ]
  },
  {
   "cell_type": "markdown",
   "metadata": {},
   "source": [
    "## [7.1] Loading the data\n",
    "\n",
    "The dataset is available in two forms\n",
    "1. .csv file\n",
    "2. SQLite Database\n",
    "\n",
    "In order to load the data, We have used the SQLITE dataset as it easier to query the data and visualise the data efficiently.\n",
    "<br> \n",
    "\n",
    "Here as we only want to get the global sentiment of the recommendations (positive or negative), we will purposefully ignore all Scores equal to 3. If the score id above 3, then the recommendation wil be set to \"positive\". Otherwise, it will be set to \"negative\"."
   ]
  },
  {
   "cell_type": "code",
   "execution_count": 1,
   "metadata": {},
   "outputs": [],
   "source": [
    "%matplotlib inline\n",
    "import warnings\n",
    "warnings.filterwarnings(\"ignore\")\n",
    "\n",
    "import sqlite3\n",
    "import pandas as pd\n",
    "import numpy as np\n",
    "import nltk\n",
    "import string\n",
    "import matplotlib.pyplot as plt\n",
    "import seaborn as sns\n",
    "from sklearn.feature_extraction.text import TfidfTransformer\n",
    "from sklearn.feature_extraction.text import TfidfVectorizer\n",
    "\n",
    "from sklearn.feature_extraction.text import CountVectorizer\n",
    "from sklearn.metrics import confusion_matrix\n",
    "from sklearn import metrics\n",
    "from sklearn.metrics import roc_curve, auc\n",
    "from nltk.stem.porter import PorterStemmer\n",
    "\n",
    "from sklearn.model_selection import train_test_split\n",
    "from sklearn.neighbors import KNeighborsClassifier\n",
    "from sklearn.metrics import accuracy_score\n",
    "from sklearn.model_selection import cross_val_score\n",
    "from collections import Counter\n",
    "from sklearn.metrics import accuracy_score\n",
    "\n",
    "import re\n",
    "# Tutorial about Python regular expressions: https://pymotw.com/2/re/\n",
    "import string\n",
    "from nltk.corpus import stopwords\n",
    "from nltk.stem import PorterStemmer\n",
    "from nltk.stem.wordnet import WordNetLemmatizer\n",
    "\n",
    "from gensim.models import Word2Vec\n",
    "from gensim.models import KeyedVectors\n",
    "import pickle\n",
    "\n",
    "from sklearn.tree import DecisionTreeClassifier\n",
    "from sklearn.model_selection import GridSearchCV\n",
    "from sklearn import tree\n",
    "\n",
    "\n",
    "\n",
    "# using the SQLite Table to read data.\n",
    "con = sqlite3.connect('database.sqlite') \n",
    "\n",
    "\n",
    "\n",
    "#filtering only positive and negative reviews i.e. \n",
    "# not taking into consideration those reviews with Score=3\n",
    "filtered_data = pd.read_sql_query(\"\"\" SELECT * FROM Reviews WHERE Score != 3 \"\"\", con) \n",
    "\n",
    "\n",
    "# Give reviews with Score>3 a positive rating, and reviews with a score<3 a negative rating.\n",
    "def partition(x):\n",
    "    if x < 3:\n",
    "        return 'negative'\n",
    "    return 'positive'\n",
    "\n",
    "#changing reviews with score less than 3 to be positive and vice-versa\n",
    "actualScore = filtered_data['Score']\n",
    "positiveNegative = actualScore.map(partition) \n",
    "filtered_data['Score'] = positiveNegative"
   ]
  },
  {
   "cell_type": "code",
   "execution_count": 2,
   "metadata": {},
   "outputs": [
    {
     "name": "stdout",
     "output_type": "stream",
     "text": [
      "(525814, 10)\n"
     ]
    },
    {
     "data": {
      "text/html": [
       "<div>\n",
       "<style scoped>\n",
       "    .dataframe tbody tr th:only-of-type {\n",
       "        vertical-align: middle;\n",
       "    }\n",
       "\n",
       "    .dataframe tbody tr th {\n",
       "        vertical-align: top;\n",
       "    }\n",
       "\n",
       "    .dataframe thead th {\n",
       "        text-align: right;\n",
       "    }\n",
       "</style>\n",
       "<table border=\"1\" class=\"dataframe\">\n",
       "  <thead>\n",
       "    <tr style=\"text-align: right;\">\n",
       "      <th></th>\n",
       "      <th>Id</th>\n",
       "      <th>ProductId</th>\n",
       "      <th>UserId</th>\n",
       "      <th>ProfileName</th>\n",
       "      <th>HelpfulnessNumerator</th>\n",
       "      <th>HelpfulnessDenominator</th>\n",
       "      <th>Score</th>\n",
       "      <th>Time</th>\n",
       "      <th>Summary</th>\n",
       "      <th>Text</th>\n",
       "    </tr>\n",
       "  </thead>\n",
       "  <tbody>\n",
       "    <tr>\n",
       "      <th>0</th>\n",
       "      <td>1</td>\n",
       "      <td>B001E4KFG0</td>\n",
       "      <td>A3SGXH7AUHU8GW</td>\n",
       "      <td>delmartian</td>\n",
       "      <td>1</td>\n",
       "      <td>1</td>\n",
       "      <td>positive</td>\n",
       "      <td>1303862400</td>\n",
       "      <td>Good Quality Dog Food</td>\n",
       "      <td>I have bought several of the Vitality canned d...</td>\n",
       "    </tr>\n",
       "    <tr>\n",
       "      <th>1</th>\n",
       "      <td>2</td>\n",
       "      <td>B00813GRG4</td>\n",
       "      <td>A1D87F6ZCVE5NK</td>\n",
       "      <td>dll pa</td>\n",
       "      <td>0</td>\n",
       "      <td>0</td>\n",
       "      <td>negative</td>\n",
       "      <td>1346976000</td>\n",
       "      <td>Not as Advertised</td>\n",
       "      <td>Product arrived labeled as Jumbo Salted Peanut...</td>\n",
       "    </tr>\n",
       "    <tr>\n",
       "      <th>2</th>\n",
       "      <td>3</td>\n",
       "      <td>B000LQOCH0</td>\n",
       "      <td>ABXLMWJIXXAIN</td>\n",
       "      <td>Natalia Corres \"Natalia Corres\"</td>\n",
       "      <td>1</td>\n",
       "      <td>1</td>\n",
       "      <td>positive</td>\n",
       "      <td>1219017600</td>\n",
       "      <td>\"Delight\" says it all</td>\n",
       "      <td>This is a confection that has been around a fe...</td>\n",
       "    </tr>\n",
       "    <tr>\n",
       "      <th>3</th>\n",
       "      <td>4</td>\n",
       "      <td>B000UA0QIQ</td>\n",
       "      <td>A395BORC6FGVXV</td>\n",
       "      <td>Karl</td>\n",
       "      <td>3</td>\n",
       "      <td>3</td>\n",
       "      <td>negative</td>\n",
       "      <td>1307923200</td>\n",
       "      <td>Cough Medicine</td>\n",
       "      <td>If you are looking for the secret ingredient i...</td>\n",
       "    </tr>\n",
       "    <tr>\n",
       "      <th>4</th>\n",
       "      <td>5</td>\n",
       "      <td>B006K2ZZ7K</td>\n",
       "      <td>A1UQRSCLF8GW1T</td>\n",
       "      <td>Michael D. Bigham \"M. Wassir\"</td>\n",
       "      <td>0</td>\n",
       "      <td>0</td>\n",
       "      <td>positive</td>\n",
       "      <td>1350777600</td>\n",
       "      <td>Great taffy</td>\n",
       "      <td>Great taffy at a great price.  There was a wid...</td>\n",
       "    </tr>\n",
       "  </tbody>\n",
       "</table>\n",
       "</div>"
      ],
      "text/plain": [
       "   Id   ProductId          UserId                      ProfileName  \\\n",
       "0   1  B001E4KFG0  A3SGXH7AUHU8GW                       delmartian   \n",
       "1   2  B00813GRG4  A1D87F6ZCVE5NK                           dll pa   \n",
       "2   3  B000LQOCH0   ABXLMWJIXXAIN  Natalia Corres \"Natalia Corres\"   \n",
       "3   4  B000UA0QIQ  A395BORC6FGVXV                             Karl   \n",
       "4   5  B006K2ZZ7K  A1UQRSCLF8GW1T    Michael D. Bigham \"M. Wassir\"   \n",
       "\n",
       "   HelpfulnessNumerator  HelpfulnessDenominator     Score        Time  \\\n",
       "0                     1                       1  positive  1303862400   \n",
       "1                     0                       0  negative  1346976000   \n",
       "2                     1                       1  positive  1219017600   \n",
       "3                     3                       3  negative  1307923200   \n",
       "4                     0                       0  positive  1350777600   \n",
       "\n",
       "                 Summary                                               Text  \n",
       "0  Good Quality Dog Food  I have bought several of the Vitality canned d...  \n",
       "1      Not as Advertised  Product arrived labeled as Jumbo Salted Peanut...  \n",
       "2  \"Delight\" says it all  This is a confection that has been around a fe...  \n",
       "3         Cough Medicine  If you are looking for the secret ingredient i...  \n",
       "4            Great taffy  Great taffy at a great price.  There was a wid...  "
      ]
     },
     "execution_count": 2,
     "metadata": {},
     "output_type": "execute_result"
    }
   ],
   "source": [
    "print(filtered_data.shape) #looking at the number of attributes and size of the data\n",
    "filtered_data.head()"
   ]
  },
  {
   "cell_type": "markdown",
   "metadata": {},
   "source": [
    "#  Exploratory Data Analysis\n",
    "\n",
    "## [7.1.2] Data Cleaning: Deduplication\n",
    "\n",
    "It is observed (as shown in the table below) that the reviews data had many duplicate entries. Hence it was necessary to remove duplicates in order to get unbiased results for the analysis of the data.  Following is an example:"
   ]
  },
  {
   "cell_type": "code",
   "execution_count": 3,
   "metadata": {
    "scrolled": false
   },
   "outputs": [
    {
     "data": {
      "text/html": [
       "<div>\n",
       "<style scoped>\n",
       "    .dataframe tbody tr th:only-of-type {\n",
       "        vertical-align: middle;\n",
       "    }\n",
       "\n",
       "    .dataframe tbody tr th {\n",
       "        vertical-align: top;\n",
       "    }\n",
       "\n",
       "    .dataframe thead th {\n",
       "        text-align: right;\n",
       "    }\n",
       "</style>\n",
       "<table border=\"1\" class=\"dataframe\">\n",
       "  <thead>\n",
       "    <tr style=\"text-align: right;\">\n",
       "      <th></th>\n",
       "      <th>Id</th>\n",
       "      <th>ProductId</th>\n",
       "      <th>UserId</th>\n",
       "      <th>ProfileName</th>\n",
       "      <th>HelpfulnessNumerator</th>\n",
       "      <th>HelpfulnessDenominator</th>\n",
       "      <th>Score</th>\n",
       "      <th>Time</th>\n",
       "      <th>Summary</th>\n",
       "      <th>Text</th>\n",
       "    </tr>\n",
       "  </thead>\n",
       "  <tbody>\n",
       "    <tr>\n",
       "      <th>0</th>\n",
       "      <td>78445</td>\n",
       "      <td>B000HDL1RQ</td>\n",
       "      <td>AR5J8UI46CURR</td>\n",
       "      <td>Geetha Krishnan</td>\n",
       "      <td>2</td>\n",
       "      <td>2</td>\n",
       "      <td>5</td>\n",
       "      <td>1199577600</td>\n",
       "      <td>LOACKER QUADRATINI VANILLA WAFERS</td>\n",
       "      <td>DELICIOUS WAFERS. I FIND THAT EUROPEAN WAFERS ...</td>\n",
       "    </tr>\n",
       "    <tr>\n",
       "      <th>1</th>\n",
       "      <td>138317</td>\n",
       "      <td>B000HDOPYC</td>\n",
       "      <td>AR5J8UI46CURR</td>\n",
       "      <td>Geetha Krishnan</td>\n",
       "      <td>2</td>\n",
       "      <td>2</td>\n",
       "      <td>5</td>\n",
       "      <td>1199577600</td>\n",
       "      <td>LOACKER QUADRATINI VANILLA WAFERS</td>\n",
       "      <td>DELICIOUS WAFERS. I FIND THAT EUROPEAN WAFERS ...</td>\n",
       "    </tr>\n",
       "    <tr>\n",
       "      <th>2</th>\n",
       "      <td>138277</td>\n",
       "      <td>B000HDOPYM</td>\n",
       "      <td>AR5J8UI46CURR</td>\n",
       "      <td>Geetha Krishnan</td>\n",
       "      <td>2</td>\n",
       "      <td>2</td>\n",
       "      <td>5</td>\n",
       "      <td>1199577600</td>\n",
       "      <td>LOACKER QUADRATINI VANILLA WAFERS</td>\n",
       "      <td>DELICIOUS WAFERS. I FIND THAT EUROPEAN WAFERS ...</td>\n",
       "    </tr>\n",
       "    <tr>\n",
       "      <th>3</th>\n",
       "      <td>73791</td>\n",
       "      <td>B000HDOPZG</td>\n",
       "      <td>AR5J8UI46CURR</td>\n",
       "      <td>Geetha Krishnan</td>\n",
       "      <td>2</td>\n",
       "      <td>2</td>\n",
       "      <td>5</td>\n",
       "      <td>1199577600</td>\n",
       "      <td>LOACKER QUADRATINI VANILLA WAFERS</td>\n",
       "      <td>DELICIOUS WAFERS. I FIND THAT EUROPEAN WAFERS ...</td>\n",
       "    </tr>\n",
       "    <tr>\n",
       "      <th>4</th>\n",
       "      <td>155049</td>\n",
       "      <td>B000PAQ75C</td>\n",
       "      <td>AR5J8UI46CURR</td>\n",
       "      <td>Geetha Krishnan</td>\n",
       "      <td>2</td>\n",
       "      <td>2</td>\n",
       "      <td>5</td>\n",
       "      <td>1199577600</td>\n",
       "      <td>LOACKER QUADRATINI VANILLA WAFERS</td>\n",
       "      <td>DELICIOUS WAFERS. I FIND THAT EUROPEAN WAFERS ...</td>\n",
       "    </tr>\n",
       "  </tbody>\n",
       "</table>\n",
       "</div>"
      ],
      "text/plain": [
       "       Id   ProductId         UserId      ProfileName  HelpfulnessNumerator  \\\n",
       "0   78445  B000HDL1RQ  AR5J8UI46CURR  Geetha Krishnan                     2   \n",
       "1  138317  B000HDOPYC  AR5J8UI46CURR  Geetha Krishnan                     2   \n",
       "2  138277  B000HDOPYM  AR5J8UI46CURR  Geetha Krishnan                     2   \n",
       "3   73791  B000HDOPZG  AR5J8UI46CURR  Geetha Krishnan                     2   \n",
       "4  155049  B000PAQ75C  AR5J8UI46CURR  Geetha Krishnan                     2   \n",
       "\n",
       "   HelpfulnessDenominator  Score        Time  \\\n",
       "0                       2      5  1199577600   \n",
       "1                       2      5  1199577600   \n",
       "2                       2      5  1199577600   \n",
       "3                       2      5  1199577600   \n",
       "4                       2      5  1199577600   \n",
       "\n",
       "                             Summary  \\\n",
       "0  LOACKER QUADRATINI VANILLA WAFERS   \n",
       "1  LOACKER QUADRATINI VANILLA WAFERS   \n",
       "2  LOACKER QUADRATINI VANILLA WAFERS   \n",
       "3  LOACKER QUADRATINI VANILLA WAFERS   \n",
       "4  LOACKER QUADRATINI VANILLA WAFERS   \n",
       "\n",
       "                                                Text  \n",
       "0  DELICIOUS WAFERS. I FIND THAT EUROPEAN WAFERS ...  \n",
       "1  DELICIOUS WAFERS. I FIND THAT EUROPEAN WAFERS ...  \n",
       "2  DELICIOUS WAFERS. I FIND THAT EUROPEAN WAFERS ...  \n",
       "3  DELICIOUS WAFERS. I FIND THAT EUROPEAN WAFERS ...  \n",
       "4  DELICIOUS WAFERS. I FIND THAT EUROPEAN WAFERS ...  "
      ]
     },
     "execution_count": 3,
     "metadata": {},
     "output_type": "execute_result"
    }
   ],
   "source": [
    "display= pd.read_sql_query(\"\"\"\n",
    "SELECT *\n",
    "FROM Reviews\n",
    "WHERE Score != 3 AND UserId=\"AR5J8UI46CURR\"\n",
    "ORDER BY ProductID\n",
    "\"\"\", con)\n",
    "display.head()"
   ]
  },
  {
   "cell_type": "markdown",
   "metadata": {},
   "source": [
    "As can be seen above the same user has multiple reviews of the with the same values for HelpfulnessNumerator, HelpfulnessDenominator, Score, Time, Summary and Text  and on doing analysis it was found that <br>\n",
    "<br> \n",
    "ProductId=B000HDOPZG was Loacker Quadratini Vanilla Wafer Cookies, 8.82-Ounce Packages (Pack of 8)<br>\n",
    "<br> \n",
    "ProductId=B000HDL1RQ was Loacker Quadratini Lemon Wafer Cookies, 8.82-Ounce Packages (Pack of 8) and so on<br>\n",
    "\n",
    "It was inferred after analysis that reviews with same parameters other than ProductId belonged to the same product just having different flavour or quantity. Hence in order to reduce redundancy it was decided to eliminate the rows having same parameters.<br>\n",
    "\n",
    "The method used for the same was that we first sort the data according to ProductId and then just keep the first similar product review and delelte the others. for eg. in the above just the review for ProductId=B000HDL1RQ remains. This method ensures that there is only one representative for each product and deduplication without sorting would lead to possibility of different representatives still existing for the same product."
   ]
  },
  {
   "cell_type": "code",
   "execution_count": 4,
   "metadata": {},
   "outputs": [],
   "source": [
    "#Sorting data according to ProductId in ascending order\n",
    "sorted_data=filtered_data.sort_values('ProductId', axis=0, ascending=True, inplace=False, kind='quicksort', na_position='last')"
   ]
  },
  {
   "cell_type": "code",
   "execution_count": 5,
   "metadata": {},
   "outputs": [
    {
     "data": {
      "text/plain": [
       "(364173, 10)"
      ]
     },
     "execution_count": 5,
     "metadata": {},
     "output_type": "execute_result"
    }
   ],
   "source": [
    "#Deduplication of entries\n",
    "final=sorted_data.drop_duplicates(subset={\"UserId\",\"ProfileName\",\"Time\",\"Text\"}, keep='first', inplace=False)\n",
    "final.shape\n"
   ]
  },
  {
   "cell_type": "code",
   "execution_count": 6,
   "metadata": {},
   "outputs": [
    {
     "data": {
      "text/plain": [
       "69.25890143662969"
      ]
     },
     "execution_count": 6,
     "metadata": {},
     "output_type": "execute_result"
    }
   ],
   "source": [
    "#Checking to see how much % of data still remains\n",
    "(final['Id'].size*1.0)/(filtered_data['Id'].size*1.0)*100"
   ]
  },
  {
   "cell_type": "markdown",
   "metadata": {},
   "source": [
    "<b>Observation:-</b> It was also seen that in two rows given below the value of HelpfulnessNumerator is greater than HelpfulnessDenominator which is not practically possible hence these two rows too are removed from calcualtions"
   ]
  },
  {
   "cell_type": "code",
   "execution_count": 7,
   "metadata": {},
   "outputs": [
    {
     "data": {
      "text/html": [
       "<div>\n",
       "<style scoped>\n",
       "    .dataframe tbody tr th:only-of-type {\n",
       "        vertical-align: middle;\n",
       "    }\n",
       "\n",
       "    .dataframe tbody tr th {\n",
       "        vertical-align: top;\n",
       "    }\n",
       "\n",
       "    .dataframe thead th {\n",
       "        text-align: right;\n",
       "    }\n",
       "</style>\n",
       "<table border=\"1\" class=\"dataframe\">\n",
       "  <thead>\n",
       "    <tr style=\"text-align: right;\">\n",
       "      <th></th>\n",
       "      <th>Id</th>\n",
       "      <th>ProductId</th>\n",
       "      <th>UserId</th>\n",
       "      <th>ProfileName</th>\n",
       "      <th>HelpfulnessNumerator</th>\n",
       "      <th>HelpfulnessDenominator</th>\n",
       "      <th>Score</th>\n",
       "      <th>Time</th>\n",
       "      <th>Summary</th>\n",
       "      <th>Text</th>\n",
       "    </tr>\n",
       "  </thead>\n",
       "  <tbody>\n",
       "    <tr>\n",
       "      <th>0</th>\n",
       "      <td>64422</td>\n",
       "      <td>B000MIDROQ</td>\n",
       "      <td>A161DK06JJMCYF</td>\n",
       "      <td>J. E. Stephens \"Jeanne\"</td>\n",
       "      <td>3</td>\n",
       "      <td>1</td>\n",
       "      <td>5</td>\n",
       "      <td>1224892800</td>\n",
       "      <td>Bought This for My Son at College</td>\n",
       "      <td>My son loves spaghetti so I didn't hesitate or...</td>\n",
       "    </tr>\n",
       "    <tr>\n",
       "      <th>1</th>\n",
       "      <td>44737</td>\n",
       "      <td>B001EQ55RW</td>\n",
       "      <td>A2V0I904FH7ABY</td>\n",
       "      <td>Ram</td>\n",
       "      <td>3</td>\n",
       "      <td>2</td>\n",
       "      <td>4</td>\n",
       "      <td>1212883200</td>\n",
       "      <td>Pure cocoa taste with crunchy almonds inside</td>\n",
       "      <td>It was almost a 'love at first bite' - the per...</td>\n",
       "    </tr>\n",
       "  </tbody>\n",
       "</table>\n",
       "</div>"
      ],
      "text/plain": [
       "      Id   ProductId          UserId              ProfileName  \\\n",
       "0  64422  B000MIDROQ  A161DK06JJMCYF  J. E. Stephens \"Jeanne\"   \n",
       "1  44737  B001EQ55RW  A2V0I904FH7ABY                      Ram   \n",
       "\n",
       "   HelpfulnessNumerator  HelpfulnessDenominator  Score        Time  \\\n",
       "0                     3                       1      5  1224892800   \n",
       "1                     3                       2      4  1212883200   \n",
       "\n",
       "                                        Summary  \\\n",
       "0             Bought This for My Son at College   \n",
       "1  Pure cocoa taste with crunchy almonds inside   \n",
       "\n",
       "                                                Text  \n",
       "0  My son loves spaghetti so I didn't hesitate or...  \n",
       "1  It was almost a 'love at first bite' - the per...  "
      ]
     },
     "execution_count": 7,
     "metadata": {},
     "output_type": "execute_result"
    }
   ],
   "source": [
    "display= pd.read_sql_query(\"\"\"\n",
    "SELECT *\n",
    "FROM Reviews\n",
    "WHERE Score != 3 AND Id=44737 OR Id=64422\n",
    "ORDER BY ProductID\n",
    "\"\"\", con)\n",
    "\n",
    "display.head()"
   ]
  },
  {
   "cell_type": "code",
   "execution_count": 8,
   "metadata": {},
   "outputs": [],
   "source": [
    "final=final[final.HelpfulnessNumerator<=final.HelpfulnessDenominator]"
   ]
  },
  {
   "cell_type": "code",
   "execution_count": 9,
   "metadata": {},
   "outputs": [
    {
     "name": "stdout",
     "output_type": "stream",
     "text": [
      "(364171, 10)\n"
     ]
    },
    {
     "data": {
      "text/plain": [
       "positive    307061\n",
       "negative     57110\n",
       "Name: Score, dtype: int64"
      ]
     },
     "execution_count": 9,
     "metadata": {},
     "output_type": "execute_result"
    }
   ],
   "source": [
    "#Before starting the next phase of preprocessing lets see the number of entries left\n",
    "print(final.shape)\n",
    "\n",
    "#How many positive and negative reviews are present in our dataset?\n",
    "final['Score'].value_counts()"
   ]
  },
  {
   "cell_type": "markdown",
   "metadata": {},
   "source": [
    "## 7.2.3  Text Preprocessing: Stemming, stop-word removal and Lemmatization.\n",
    "\n",
    "Now that we have finished deduplication our data requires some preprocessing before we go on further with analysis and making the prediction model.\n",
    "\n",
    "Hence in the Preprocessing phase we do the following in the order below:-\n",
    "\n",
    "1. Begin by removing the html tags\n",
    "2. Remove any punctuations or limited set of special characters like , or . or # etc.\n",
    "3. Check if the word is made up of english letters and is not alpha-numeric\n",
    "4. Check to see if the length of the word is greater than 2 (as it was researched that there is no adjective in 2-letters)\n",
    "5. Convert the word to lowercase\n",
    "6. Remove Stopwords\n",
    "7. Finally Snowball Stemming the word (it was obsereved to be better than Porter Stemming)<br>\n",
    "\n",
    "After which we collect the words used to describe positive and negative reviews"
   ]
  },
  {
   "cell_type": "code",
   "execution_count": 10,
   "metadata": {},
   "outputs": [
    {
     "name": "stdout",
     "output_type": "stream",
     "text": [
      "6\n",
      "I set aside at least an hour each day to read to my son (3 y/o). At this point, I consider myself a connoisseur of children's books and this is one of the best. Santa Clause put this under the tree. Since then, we've read it perpetually and he loves it.<br /><br />First, this book taught him the months of the year.<br /><br />Second, it's a pleasure to read. Well suited to 1.5 y/o old to 4+.<br /><br />Very few children's books are worth owning. Most should be borrowed from the library. This book, however, deserves a permanent spot on your shelf. Sendak's best.\n"
     ]
    }
   ],
   "source": [
    "# find sentences containing HTML tags\n",
    "import re\n",
    "i=0;\n",
    "for sent in final['Text'].values:\n",
    "    if (len(re.findall('<.*?>', sent))):\n",
    "        print(i)\n",
    "        print(sent)\n",
    "        break;\n",
    "    i += 1;"
   ]
  },
  {
   "cell_type": "code",
   "execution_count": 11,
   "metadata": {},
   "outputs": [
    {
     "name": "stdout",
     "output_type": "stream",
     "text": [
      "{'it', 'won', 'each', 'has', 'for', 'what', \"that'll\", 'can', 'will', \"wasn't\", \"doesn't\", 'have', 'yourselves', 'i', 'they', 'does', 'him', 'herself', 'himself', \"isn't\", 'very', 'weren', 'doing', \"should've\", 'to', 'd', \"won't\", 'few', 'same', 'did', 'ourselves', 'haven', 'shouldn', 'these', 'had', 'out', 'down', \"shouldn't\", 's', 'now', 'am', 'if', 'y', 'because', 'no', 'those', 'too', \"haven't\", \"couldn't\", \"needn't\", 'themselves', 'at', 'do', 'from', 're', 'couldn', 'off', 'with', 'our', \"aren't\", 'hadn', 'as', 'yourself', 'most', 'into', \"mustn't\", 'hers', 'ours', 'she', 'm', 'theirs', 'being', 'whom', 'is', 'be', 'while', 'both', 'against', \"you'll\", 'not', 'wouldn', 'any', 'having', 'them', 'by', 'once', \"didn't\", 'which', 'just', 'or', 'nor', 'your', 'hasn', 'mightn', \"mightn't\", 'that', 'a', 'during', 'after', 'shan', 'up', 'of', 'ain', 'why', 'me', 'over', 'o', 'aren', 'myself', 'own', 'other', \"you've\", 'further', \"you're\", 'but', 'all', 'such', 'been', 'how', 'doesn', 'his', 've', 'through', 'my', 'who', 'here', 'you', \"hadn't\", \"you'd\", \"wouldn't\", 'yours', \"weren't\", 'so', \"it's\", 'll', 'were', 'don', 'until', 'then', \"don't\", \"hasn't\", 'we', 'on', 'more', 'was', 'above', 'should', 'needn', 'and', 'between', 'there', 'isn', 'below', 'about', \"she's\", 'their', 'some', 'where', 'wasn', 'her', 'than', 'an', 'mustn', 'in', 'he', 'when', 'this', 'ma', 'under', \"shan't\", 't', 'only', 'itself', 'again', 'are', 'didn', 'the', 'its', 'before'}\n",
      "************************************\n",
      "tasti\n"
     ]
    }
   ],
   "source": [
    "\n",
    "stop = set(stopwords.words('english')) #set of stopwords\n",
    "sno = nltk.stem.SnowballStemmer('english') #initialising the snowball stemmer\n",
    "\n",
    "def cleanhtml(sentence): #function to clean the word of any html-tags\n",
    "    cleanr = re.compile('<.*?>')\n",
    "    cleantext = re.sub(cleanr, ' ', sentence)\n",
    "    return cleantext\n",
    "def cleanpunc(sentence): #function to clean the word of any punctuation or special characters\n",
    "    cleaned = re.sub(r'[?|!|\\'|\"|#]',r'',sentence)\n",
    "    cleaned = re.sub(r'[.|,|)|(|\\|/]',r' ',cleaned)\n",
    "    return  cleaned\n",
    "print(stop)\n",
    "print('************************************')\n",
    "print(sno.stem('tasty'))"
   ]
  },
  {
   "cell_type": "code",
   "execution_count": 12,
   "metadata": {},
   "outputs": [],
   "source": [
    "#Code for implementing step-by-step the checks mentioned in the pre-processing phase\n",
    "# this code takes a while to run as it needs to run on 500k sentences.\n",
    "i=0\n",
    "str1=' '\n",
    "final_string=[]\n",
    "all_positive_words=[] # store words from +ve reviews here\n",
    "all_negative_words=[] # store words from -ve reviews here.\n",
    "s=''\n",
    "for sent in final['Text'].values:\n",
    "    filtered_sentence=[]\n",
    "    #print(sent);\n",
    "    sent=cleanhtml(sent) # remove HTMl tags\n",
    "    for w in sent.split():\n",
    "        for cleaned_words in cleanpunc(w).split():\n",
    "            if((cleaned_words.isalpha()) & (len(cleaned_words)>2)):    \n",
    "                if(cleaned_words.lower() not in stop):\n",
    "                    s=(sno.stem(cleaned_words.lower())).encode('utf8')\n",
    "                    filtered_sentence.append(s)\n",
    "                    if (final['Score'].values)[i] == 'positive': \n",
    "                        all_positive_words.append(s) #list of all words used to describe positive reviews\n",
    "                    if(final['Score'].values)[i] == 'negative':\n",
    "                        all_negative_words.append(s) #list of all words used to describe negative reviews reviews\n",
    "                else:\n",
    "                    continue\n",
    "            else:\n",
    "                continue \n",
    "    #print(filtered_sentence)\n",
    "    str1 = b\" \".join(filtered_sentence) #final string of cleaned words\n",
    "    #print(\"***********************************************************************\")\n",
    "    \n",
    "    final_string.append(str1)\n",
    "    i+=1"
   ]
  },
  {
   "cell_type": "code",
   "execution_count": 13,
   "metadata": {},
   "outputs": [],
   "source": [
    "final['CleanedText']=final_string #adding a column of CleanedText which displays the data after pre-processing of the review \n",
    "final['CleanedText']=final['CleanedText'].str.decode(\"utf-8\")"
   ]
  },
  {
   "cell_type": "code",
   "execution_count": 14,
   "metadata": {
    "scrolled": false
   },
   "outputs": [],
   "source": [
    "final.head(3) #below the processed review can be seen in the CleanedText Column \n",
    "\n",
    "\n",
    "# store final table into an SQlLite table for future.\n",
    "conn = sqlite3.connect('final.sqlite')\n",
    "c=conn.cursor()\n",
    "conn.text_factory = str\n",
    "final.to_sql('Reviews', conn,  schema=None, if_exists='replace', index=True, index_label=None, chunksize=None, dtype=None)"
   ]
  },
  {
   "cell_type": "markdown",
   "metadata": {},
   "source": [
    "# [7.2.2] Bag of Words (BoW)"
   ]
  },
  {
   "cell_type": "code",
   "execution_count": 15,
   "metadata": {},
   "outputs": [
    {
     "data": {
      "text/plain": [
       "(364171, 11)"
      ]
     },
     "execution_count": 15,
     "metadata": {},
     "output_type": "execute_result"
    }
   ],
   "source": [
    "final.shape"
   ]
  },
  {
   "cell_type": "code",
   "execution_count": 16,
   "metadata": {},
   "outputs": [],
   "source": [
    "# Sorting data based on time\n",
    "final[\"Time\"] = pd.to_datetime(final[\"Time\"], unit = \"s\")\n",
    "final = final.sort_values(by = \"Time\")\n"
   ]
  },
  {
   "cell_type": "code",
   "execution_count": 17,
   "metadata": {},
   "outputs": [],
   "source": [
    "# Considering 250K data samples \n",
    "\n",
    "final_60k = final[:250000]"
   ]
  },
  {
   "cell_type": "code",
   "execution_count": 18,
   "metadata": {},
   "outputs": [
    {
     "name": "stdout",
     "output_type": "stream",
     "text": [
      "shape of X: (250000,)\n"
     ]
    }
   ],
   "source": [
    "# 60k data which will use to train model after vectorization\n",
    "\n",
    "X = final_60k[\"CleanedText\"]\n",
    "print(\"shape of X:\", X.shape)"
   ]
  },
  {
   "cell_type": "code",
   "execution_count": 19,
   "metadata": {},
   "outputs": [
    {
     "name": "stdout",
     "output_type": "stream",
     "text": [
      "shape of y: (250000,)\n"
     ]
    }
   ],
   "source": [
    "y = final_60k[\"Score\"]\n",
    "print(\"shape of y:\", y.shape)"
   ]
  },
  {
   "cell_type": "code",
   "execution_count": 20,
   "metadata": {},
   "outputs": [
    {
     "name": "stdout",
     "output_type": "stream",
     "text": [
      "(175000,) (175000,) (75000,)\n"
     ]
    }
   ],
   "source": [
    "# split data into train and test where 70% data used to train model and 30% for test\n",
    "\n",
    "from sklearn.model_selection import train_test_split\n",
    "X_train, x_test, y_train, y_test = train_test_split(X, y, test_size = 0.3, random_state = 42, shuffle=False)\n",
    "print(X_train.shape, y_train.shape, x_test.shape)"
   ]
  },
  {
   "cell_type": "code",
   "execution_count": 21,
   "metadata": {},
   "outputs": [
    {
     "data": {
      "text/plain": [
       "<175000x48984 sparse matrix of type '<class 'numpy.int64'>'\n",
       "\twith 5441324 stored elements in Compressed Sparse Row format>"
      ]
     },
     "execution_count": 21,
     "metadata": {},
     "output_type": "execute_result"
    }
   ],
   "source": [
    "# Training using CountVectorizer\n",
    "\n",
    "from sklearn.feature_extraction.text import CountVectorizer \n",
    "\n",
    "abc = CountVectorizer()\n",
    "X_train = abc.fit_transform(X_train)\n",
    "X_train"
   ]
  },
  {
   "cell_type": "code",
   "execution_count": 22,
   "metadata": {},
   "outputs": [
    {
     "data": {
      "text/plain": [
       "<175000x48984 sparse matrix of type '<class 'numpy.int64'>'\n",
       "\twith 5441324 stored elements in Compressed Sparse Row format>"
      ]
     },
     "execution_count": 22,
     "metadata": {},
     "output_type": "execute_result"
    }
   ],
   "source": [
    "X_train"
   ]
  },
  {
   "cell_type": "code",
   "execution_count": 23,
   "metadata": {},
   "outputs": [
    {
     "data": {
      "text/plain": [
       "<75000x48984 sparse matrix of type '<class 'numpy.int64'>'\n",
       "\twith 2362076 stored elements in Compressed Sparse Row format>"
      ]
     },
     "execution_count": 23,
     "metadata": {},
     "output_type": "execute_result"
    }
   ],
   "source": [
    "# Test Vectorizor\n",
    "\n",
    "x_test = abc.transform(x_test)\n",
    "x_test"
   ]
  },
  {
   "cell_type": "code",
   "execution_count": 24,
   "metadata": {},
   "outputs": [],
   "source": [
    "from sklearn.preprocessing import StandardScaler\n",
    "scaler = StandardScaler(with_mean=False)\n",
    "\n",
    "X_train = scaler.fit_transform(X_train)\n",
    "X_test = scaler.transform(x_test)\n"
   ]
  },
  {
   "cell_type": "markdown",
   "metadata": {},
   "source": [
    "### Training the SGDClassifier  using GridSearchCV with  L2 - Regularization "
   ]
  },
  {
   "cell_type": "code",
   "execution_count": 26,
   "metadata": {},
   "outputs": [
    {
     "data": {
      "text/plain": [
       "sklearn.linear_model.stochastic_gradient.SGDClassifier"
      ]
     },
     "execution_count": 26,
     "metadata": {},
     "output_type": "execute_result"
    }
   ],
   "source": [
    "#Importing linear model,GridSearchCV\n",
    "\n",
    "from sklearn import linear_model\n",
    "from sklearn.model_selection import GridSearchCV\n",
    "from sklearn.pipeline import Pipeline\n",
    "linear_model.SGDClassifier"
   ]
  },
  {
   "cell_type": "code",
   "execution_count": 27,
   "metadata": {},
   "outputs": [
    {
     "data": {
      "text/plain": [
       "sklearn.linear_model.stochastic_gradient.SGDClassifier"
      ]
     },
     "execution_count": 27,
     "metadata": {},
     "output_type": "execute_result"
    }
   ],
   "source": [
    "linear_model.SGDClassifier"
   ]
  },
  {
   "cell_type": "code",
   "execution_count": 26,
   "metadata": {},
   "outputs": [
    {
     "data": {
      "text/plain": [
       "{'alpha': 0.01}"
      ]
     },
     "execution_count": 26,
     "metadata": {},
     "output_type": "execute_result"
    }
   ],
   "source": [
    "# training the SGDClassifier model , getting the best parameter\n",
    "\n",
    "svm = linear_model.SGDClassifier(loss='hinge')\n",
    "\n",
    "my_cv = TimeSeriesSplit(n_splits=2).split(X_train)\n",
    "\n",
    "grid_parameters = {'alpha':[10**-2, 10**-1, 1, 10, 100]}\n",
    "gridSearchModel = GridSearchCV(svm, grid_parameters, cv=my_cv)\n",
    "gridSearchModel.fit(X_train, y_train)\n",
    "gridSearchModel.best_params_\n"
   ]
  },
  {
   "cell_type": "code",
   "execution_count": 300,
   "metadata": {},
   "outputs": [
    {
     "name": "stdout",
     "output_type": "stream",
     "text": [
      "Accuracy for traning model is 0.9567485714285714\n"
     ]
    }
   ],
   "source": [
    "classifier = linear_model.SGDClassifier(penalty='l2', alpha=0.01 ,loss='hinge')\n",
    "classifier.fit(X_train, y_train)\n",
    "tr_score = classifier.score(X_train, y_train)\n",
    "print('Accuracy for traning model is', tr_score)"
   ]
  },
  {
   "cell_type": "code",
   "execution_count": 301,
   "metadata": {},
   "outputs": [
    {
     "name": "stdout",
     "output_type": "stream",
     "text": [
      "Accuracy on test data is  0.8690533333333333\n"
     ]
    }
   ],
   "source": [
    "pred = classifier.predict(x_test)\n",
    "\n",
    "accuracy = f1_score(y_test, pred , average = 'micro')\n",
    "print ('Accuracy on test data is ',accuracy)"
   ]
  },
  {
   "cell_type": "code",
   "execution_count": 76,
   "metadata": {},
   "outputs": [
    {
     "name": "stdout",
     "output_type": "stream",
     "text": [
      "Train Error 0.043263%\n"
     ]
    }
   ],
   "source": [
    "# Error on train data\n",
    "train_err_bow = 1-tr_score\n",
    "print(\"Train Error %f%%\" % (train_err_bow))"
   ]
  },
  {
   "cell_type": "code",
   "execution_count": 77,
   "metadata": {},
   "outputs": [
    {
     "name": "stdout",
     "output_type": "stream",
     "text": [
      "[[  176 12671]\n",
      " [  877 61276]]\n"
     ]
    }
   ],
   "source": [
    "from sklearn.metrics import confusion_matrix\n",
    "cm = confusion_matrix(y_test, pred)\n",
    "print(cm)"
   ]
  },
  {
   "cell_type": "code",
   "execution_count": 79,
   "metadata": {},
   "outputs": [
    {
     "data": {
      "image/png": "[encoded data removed]",
      "text/plain": [
       "<Figure size 432x288 with 2 Axes>"
      ]
     },
     "metadata": {},
     "output_type": "display_data"
    }
   ],
   "source": [
    "Confusion_Matrix(y_test, pred)"
   ]
  },
  {
   "cell_type": "code",
   "execution_count": 81,
   "metadata": {},
   "outputs": [
    {
     "name": "stdout",
     "output_type": "stream",
     "text": [
      "[['disappoint' 'worst' 'terribl' ... 'best' 'love' 'great']]\n",
      "[['disappoint' 'worst' 'terribl' ... 'best' 'love' 'great']]\n"
     ]
    }
   ],
   "source": [
    "# Feature importance \n",
    "\n",
    "pos_feat  = classifier.coef_[:10].argsort()\n",
    "neg_feat  = classifier.coef_[:10].argsort()\n",
    "\n",
    "print(np.take(abc.get_feature_names() , neg_feat[:10]))\n",
    "print(np.take(abc.get_feature_names() , pos_feat[:10]))"
   ]
  },
  {
   "cell_type": "code",
   "execution_count": 80,
   "metadata": {},
   "outputs": [],
   "source": [
    "# Increasing the Hyperparameter and observing changes on Error on train data"
   ]
  },
  {
   "cell_type": "code",
   "execution_count": 71,
   "metadata": {},
   "outputs": [
    {
     "name": "stdout",
     "output_type": "stream",
     "text": [
      "Accuracy for traning model is 0.9494514285714286\n"
     ]
    }
   ],
   "source": [
    "classifier = linear_model.SGDClassifier(penalty='l2', alpha=0.001 ,loss='hinge')\n",
    "classifier.fit(X_train, y_train)\n",
    "tr_score = classifier.score(X_train, y_train)\n",
    "print('Accuracy for traning model is', tr_score)"
   ]
  },
  {
   "cell_type": "code",
   "execution_count": 72,
   "metadata": {},
   "outputs": [
    {
     "name": "stdout",
     "output_type": "stream",
     "text": [
      "Train Error 0.050549%\n"
     ]
    }
   ],
   "source": [
    "# Error on train data\n",
    "train_err_bow = 1-tr_score\n",
    "print(\"Train Error %f%%\" % (train_err_bow))"
   ]
  },
  {
   "cell_type": "code",
   "execution_count": 73,
   "metadata": {},
   "outputs": [
    {
     "name": "stdout",
     "output_type": "stream",
     "text": [
      "Accuracy for traning model is 0.8677771428571428\n"
     ]
    }
   ],
   "source": [
    "classifier = linear_model.SGDClassifier(penalty='l2', alpha=5 ,loss='hinge')\n",
    "classifier.fit(X_train, y_train)\n",
    "tr_score = classifier.score(X_train, y_train)\n",
    "print('Accuracy for traning model is', tr_score)"
   ]
  },
  {
   "cell_type": "code",
   "execution_count": 74,
   "metadata": {},
   "outputs": [
    {
     "name": "stdout",
     "output_type": "stream",
     "text": [
      "Train Error 0.132223%\n"
     ]
    }
   ],
   "source": [
    "# Error on train data\n",
    "train_err_bow = 1-tr_score\n",
    "print(\"Train Error %f%%\" % (train_err_bow))"
   ]
  },
  {
   "cell_type": "code",
   "execution_count": 82,
   "metadata": {},
   "outputs": [
    {
     "data": {
      "image/png": "[encoded data removed]",
      "text/plain": [
       "<Figure size 432x288 with 1 Axes>"
      ]
     },
     "metadata": {},
     "output_type": "display_data"
    }
   ],
   "source": [
    "x= [ 0.01 , 0.001 , 5 ]\n",
    "y= [ 0.043263 , 0.050549 , 0.132223]\n",
    "\n",
    "# importing the required module \n",
    "import matplotlib.pyplot as plt \n",
    "  \n",
    "# plotting the graph of train data error vs hyperparameter alpha\n",
    "plt.plot(x, y) \n",
    "  \n",
    "# naming the x axis \n",
    "plt.xlabel('x - axis') \n",
    "# naming the y axis \n",
    "plt.ylabel('y - axis') \n",
    "  \n",
    "# giving a title to my graph \n",
    "plt.title('CV Error') \n",
    "  \n",
    "# function to show the plot \n",
    "plt.show() "
   ]
  },
  {
   "cell_type": "markdown",
   "metadata": {},
   "source": [
    "### Training the SGDClassifier using Random Search with  L2 - Regularization "
   ]
  },
  {
   "cell_type": "code",
   "execution_count": 26,
   "metadata": {},
   "outputs": [],
   "source": [
    "\n",
    "from sklearn.linear_model import LogisticRegression\n",
    "from sklearn.model_selection import GridSearchCV\n",
    "from sklearn.model_selection import TimeSeriesSplit\n",
    "from sklearn.model_selection import RandomizedSearchCV\n",
    "from scipy.stats import uniform"
   ]
  },
  {
   "cell_type": "code",
   "execution_count": 90,
   "metadata": {},
   "outputs": [
    {
     "data": {
      "text/plain": [
       "{'alpha': 0.18760640457318956}"
      ]
     },
     "execution_count": 90,
     "metadata": {},
     "output_type": "execute_result"
    }
   ],
   "source": [
    "from sklearn.model_selection import RandomizedSearchCV\n",
    "from scipy.stats import uniform\n",
    "\n",
    "svm = linear_model.SGDClassifier(loss='hinge')\n",
    "\n",
    "my_cv = TimeSeriesSplit(n_splits=2).split(X_train)\n",
    "\n",
    "random_parameters = {'alpha':[10**-2, 10**-1, 1, 10, 100]}\n",
    "\n",
    "random_parameters = {'alpha':uniform()}\n",
    "randomSearchModel = RandomizedSearchCV(svm, random_parameters, cv=my_cv)\n",
    "randomSearchModel.fit(X_train, y_train)\n",
    "randomSearchModel.best_params_"
   ]
  },
  {
   "cell_type": "code",
   "execution_count": 98,
   "metadata": {},
   "outputs": [
    {
     "name": "stdout",
     "output_type": "stream",
     "text": [
      "Accuracy on traning data is  0.9472285714285714\n"
     ]
    }
   ],
   "source": [
    "classifier = linear_model.SGDClassifier(penalty='l2', alpha=0.18760640457318956, loss='hinge')\n",
    "classifier.fit(X_train, y_train)\n",
    "tr_score = classifier.score(X_train, y_train)\n",
    "print('Accuracy on traning data is ' , tr_score)"
   ]
  },
  {
   "cell_type": "code",
   "execution_count": 93,
   "metadata": {},
   "outputs": [
    {
     "name": "stdout",
     "output_type": "stream",
     "text": [
      "Accuracy on test data is  0.8401066666666667\n"
     ]
    }
   ],
   "source": [
    "pred = classifier.predict(x_test)\n",
    "\n",
    "accuracy = f1_score(y_test, pred , average = 'micro')\n",
    "print ('Accuracy on test data is ',accuracy)"
   ]
  },
  {
   "cell_type": "code",
   "execution_count": 94,
   "metadata": {},
   "outputs": [
    {
     "name": "stdout",
     "output_type": "stream",
     "text": [
      "Train Error 0.053029%\n"
     ]
    }
   ],
   "source": [
    "# Error on train data\n",
    "train_err_bow = 1-tr_score\n",
    "print(\"Train Error %f%%\" % (train_err_bow))"
   ]
  },
  {
   "cell_type": "code",
   "execution_count": 95,
   "metadata": {},
   "outputs": [
    {
     "name": "stdout",
     "output_type": "stream",
     "text": [
      "[[  875 11972]\n",
      " [   20 62133]]\n"
     ]
    }
   ],
   "source": [
    "from sklearn.metrics import confusion_matrix\n",
    "cm = confusion_matrix(y_test, pred)\n",
    "print(cm)"
   ]
  },
  {
   "cell_type": "code",
   "execution_count": 99,
   "metadata": {},
   "outputs": [
    {
     "name": "stdout",
     "output_type": "stream",
     "text": [
      "[['disappoint' 'worst' 'terribl' ... 'good' 'love' 'great']]\n",
      "[['disappoint' 'worst' 'terribl' ... 'good' 'love' 'great']]\n"
     ]
    }
   ],
   "source": [
    "# Feature importance \n",
    "\n",
    "pos_feat  = classifier.coef_[:10].argsort()\n",
    "neg_feat  = classifier.coef_[:10].argsort()\n",
    "\n",
    "print(np.take(abc.get_feature_names() , neg_feat[:10]))\n",
    "print(np.take(abc.get_feature_names() , pos_feat[:10]))"
   ]
  },
  {
   "cell_type": "code",
   "execution_count": 96,
   "metadata": {},
   "outputs": [
    {
     "data": {
      "image/png": "[encoded data removed]",
      "text/plain": [
       "<Figure size 432x288 with 2 Axes>"
      ]
     },
     "metadata": {},
     "output_type": "display_data"
    }
   ],
   "source": [
    "Confusion_Matrix(y_test, pred)"
   ]
  },
  {
   "cell_type": "code",
   "execution_count": null,
   "metadata": {},
   "outputs": [],
   "source": [
    "# Changing the Hyperparameter and observing changes on Error on train data"
   ]
  },
  {
   "cell_type": "code",
   "execution_count": 97,
   "metadata": {},
   "outputs": [
    {
     "name": "stdout",
     "output_type": "stream",
     "text": [
      "Accuracy on traning data is  0.9529257142857143\n"
     ]
    }
   ],
   "source": [
    "classifier = linear_model.SGDClassifier(penalty='l2', alpha=0.1, loss='hinge')\n",
    "classifier.fit(X_train, y_train)\n",
    "tr_score = classifier.score(X_train, y_train)\n",
    "print('Accuracy on traning data is ' , tr_score)"
   ]
  },
  {
   "cell_type": "code",
   "execution_count": 100,
   "metadata": {},
   "outputs": [
    {
     "name": "stdout",
     "output_type": "stream",
     "text": [
      "Train Error 0.052771%\n"
     ]
    }
   ],
   "source": [
    "# Error on train data\n",
    "train_err_bow = 1-tr_score\n",
    "print(\"Train Error %f%%\" % (train_err_bow))"
   ]
  },
  {
   "cell_type": "code",
   "execution_count": 101,
   "metadata": {},
   "outputs": [
    {
     "name": "stdout",
     "output_type": "stream",
     "text": [
      "Accuracy on traning data is  0.9568742857142857\n"
     ]
    }
   ],
   "source": [
    "classifier = linear_model.SGDClassifier(penalty='l2', alpha=0.01, loss='hinge')\n",
    "classifier.fit(X_train, y_train)\n",
    "tr_score = classifier.score(X_train, y_train)\n",
    "print('Accuracy on traning data is ' , tr_score)"
   ]
  },
  {
   "cell_type": "code",
   "execution_count": 102,
   "metadata": {},
   "outputs": [
    {
     "name": "stdout",
     "output_type": "stream",
     "text": [
      "Train Error 0.043126%\n"
     ]
    }
   ],
   "source": [
    "# Error on train data\n",
    "train_err_bow = 1-tr_score\n",
    "print(\"Train Error %f%%\" % (train_err_bow))"
   ]
  },
  {
   "cell_type": "code",
   "execution_count": 103,
   "metadata": {},
   "outputs": [
    {
     "name": "stdout",
     "output_type": "stream",
     "text": [
      "Accuracy on traning data is  0.9507028571428572\n"
     ]
    }
   ],
   "source": [
    "classifier = linear_model.SGDClassifier(penalty='l2', alpha=0.001, loss='hinge')\n",
    "classifier.fit(X_train, y_train)\n",
    "tr_score = classifier.score(X_train, y_train)\n",
    "print('Accuracy on traning data is ' , tr_score)"
   ]
  },
  {
   "cell_type": "code",
   "execution_count": 104,
   "metadata": {},
   "outputs": [
    {
     "name": "stdout",
     "output_type": "stream",
     "text": [
      "Train Error 0.049297%\n"
     ]
    }
   ],
   "source": [
    "# Error on train data\n",
    "train_err_bow = 1-tr_score\n",
    "print(\"Train Error %f%%\" % (train_err_bow))"
   ]
  },
  {
   "cell_type": "code",
   "execution_count": 105,
   "metadata": {},
   "outputs": [
    {
     "name": "stdout",
     "output_type": "stream",
     "text": [
      "Accuracy on traning data is  0.8678\n"
     ]
    }
   ],
   "source": [
    "classifier = linear_model.SGDClassifier(penalty='l2', alpha=5, loss='hinge')\n",
    "classifier.fit(X_train, y_train)\n",
    "tr_score = classifier.score(X_train, y_train)\n",
    "print('Accuracy on traning data is ' , tr_score)"
   ]
  },
  {
   "cell_type": "code",
   "execution_count": 106,
   "metadata": {},
   "outputs": [
    {
     "name": "stdout",
     "output_type": "stream",
     "text": [
      "Train Error 0.132200%\n"
     ]
    }
   ],
   "source": [
    "# Error on train data\n",
    "train_err_bow = 1-tr_score\n",
    "print(\"Train Error %f%%\" % (train_err_bow))"
   ]
  },
  {
   "cell_type": "code",
   "execution_count": 108,
   "metadata": {},
   "outputs": [
    {
     "data": {
      "image/png": "[encoded data removed]",
      "text/plain": [
       "<Figure size 432x288 with 1 Axes>"
      ]
     },
     "metadata": {},
     "output_type": "display_data"
    }
   ],
   "source": [
    "x= [ 0.1 , 0.01 ,0.001, 5 ]\n",
    "y= [ 0.052771,0.043126 ,0.049297 , 0.132200]\n",
    "\n",
    "# importing the required module \n",
    "import matplotlib.pyplot as plt \n",
    "  \n",
    "# plotting the graph of train data error vs hyperparameter alpha\n",
    "plt.plot(x, y) \n",
    "  \n",
    "# naming the x axis \n",
    "plt.xlabel('x - axis') \n",
    "# naming the y axis \n",
    "plt.ylabel('y - axis') \n",
    "  \n",
    "# giving a title to my graph \n",
    "plt.title('CV Error') \n",
    "  \n",
    "# function to show the plot \n",
    "plt.show() "
   ]
  },
  {
   "cell_type": "markdown",
   "metadata": {},
   "source": [
    "# [7.2.5] TF-IDF"
   ]
  },
  {
   "cell_type": "code",
   "execution_count": 240,
   "metadata": {},
   "outputs": [],
   "source": [
    "# Considering 250K data samples \n",
    "\n",
    "final_60k = final[:250000]"
   ]
  },
  {
   "cell_type": "code",
   "execution_count": 241,
   "metadata": {},
   "outputs": [],
   "source": [
    "# Sorting data based on time\n",
    "final_60k[\"Time\"] = pd.to_datetime(final_60k[\"Time\"], unit = \"s\")\n",
    "final_60k = final_60k.sort_values(by = \"Time\")\n"
   ]
  },
  {
   "cell_type": "code",
   "execution_count": 242,
   "metadata": {},
   "outputs": [],
   "source": [
    "# Assigning data to X\n",
    "\n",
    "X = final_60k[\"CleanedText\"]\n",
    "\n",
    "# Target/class-label\n",
    "\n",
    "y = final_60k[\"Score\"]"
   ]
  },
  {
   "cell_type": "code",
   "execution_count": 243,
   "metadata": {},
   "outputs": [
    {
     "name": "stdout",
     "output_type": "stream",
     "text": [
      "(175000,) (75000,) (175000,) (75000,)\n"
     ]
    }
   ],
   "source": [
    "# Spliting the data into train and test such that 70% data will be used to train model and 30% for test purpose.\n",
    "\n",
    "X_train, x_test, y_train, y_test = train_test_split(X, y, test_size = 0.3, random_state = 25, shuffle=False)\n",
    "print(X_train.shape, x_test.shape, y_train.shape, y_test.shape)\n"
   ]
  },
  {
   "cell_type": "code",
   "execution_count": 244,
   "metadata": {},
   "outputs": [
    {
     "data": {
      "text/plain": [
       "<175000x1790910 sparse matrix of type '<class 'numpy.float64'>'\n",
       "\twith 11741170 stored elements in Compressed Sparse Row format>"
      ]
     },
     "execution_count": 244,
     "metadata": {},
     "output_type": "execute_result"
    }
   ],
   "source": [
    "from sklearn.feature_extraction.text import TfidfVectorizer\n",
    "\n",
    "\n",
    "tf_idf_vect = TfidfVectorizer(ngram_range=(1,2))\n",
    "X_train = tf_idf_vect.fit_transform(X_train)\n",
    "X_train"
   ]
  },
  {
   "cell_type": "code",
   "execution_count": 245,
   "metadata": {},
   "outputs": [
    {
     "data": {
      "text/plain": [
       "(75000, 1790910)"
      ]
     },
     "execution_count": 245,
     "metadata": {},
     "output_type": "execute_result"
    }
   ],
   "source": [
    "# Convert test text data to its vectorizor\n",
    "\n",
    "x_test = tf_idf_vect.transform(x_test)\n",
    "x_test.shape"
   ]
  },
  {
   "cell_type": "code",
   "execution_count": 56,
   "metadata": {},
   "outputs": [],
   "source": [
    "from sklearn.preprocessing import StandardScaler\n",
    "scaler = StandardScaler(with_mean=False)\n",
    "\n",
    "X_train = scaler.fit_transform(X_train)\n",
    "X_test = scaler.transform(x_test)\n"
   ]
  },
  {
   "cell_type": "markdown",
   "metadata": {},
   "source": [
    "### Training the SGDClassifier using GridSearchCV with L2 - Regularization"
   ]
  },
  {
   "cell_type": "code",
   "execution_count": 46,
   "metadata": {},
   "outputs": [
    {
     "data": {
      "text/plain": [
       "{'alpha': 1}"
      ]
     },
     "execution_count": 46,
     "metadata": {},
     "output_type": "execute_result"
    }
   ],
   "source": [
    "# training the SGDClassifier model , getting the best parameter\n",
    "\n",
    "svm = linear_model.SGDClassifier(loss='hinge')\n",
    "\n",
    "my_cv = TimeSeriesSplit(n_splits=2).split(X_train)\n",
    "grid_parameters = {'alpha':[1, 10, 1000]}\n",
    "gridSearchModel = GridSearchCV(svm, grid_parameters, cv=my_cv)\n",
    "gridSearchModel.fit(X_train, y_train)\n",
    "gridSearchModel.best_params_\n"
   ]
  },
  {
   "cell_type": "code",
   "execution_count": 326,
   "metadata": {},
   "outputs": [
    {
     "name": "stdout",
     "output_type": "stream",
     "text": [
      "Accuracy for traning model is 0.9201657142857143\n"
     ]
    }
   ],
   "source": [
    "classifier = linear_model.SGDClassifier(penalty='l2', alpha=1 ,loss='hinge')\n",
    "classifier.fit(X_train, y_train)\n",
    "tr_score = classifier.score(X_train, y_train)\n",
    "print('Accuracy for traning model is', tr_score)"
   ]
  },
  {
   "cell_type": "code",
   "execution_count": 328,
   "metadata": {},
   "outputs": [
    {
     "name": "stdout",
     "output_type": "stream",
     "text": [
      "Accuracy on test data is  0.8318399999999999\n"
     ]
    }
   ],
   "source": [
    "from sklearn.metrics import f1_score\n",
    "pred = classifier.predict(x_test)\n",
    "\n",
    "accuracy = f1_score(y_test, pred , average = 'micro')\n",
    "print ('Accuracy on test data is ',accuracy)"
   ]
  },
  {
   "cell_type": "code",
   "execution_count": 329,
   "metadata": {},
   "outputs": [
    {
     "name": "stdout",
     "output_type": "stream",
     "text": [
      "Train Error 0.079834%\n"
     ]
    }
   ],
   "source": [
    "# Error on train data\n",
    "train_err_bow = 1-tr_score\n",
    "print(\"Train Error %f%%\" % (train_err_bow))"
   ]
  },
  {
   "cell_type": "code",
   "execution_count": 330,
   "metadata": {},
   "outputs": [
    {
     "name": "stdout",
     "output_type": "stream",
     "text": [
      "[[  227 12609]\n",
      " [    3 62161]]\n"
     ]
    }
   ],
   "source": [
    "from sklearn.metrics import confusion_matrix\n",
    "cm = confusion_matrix(y_test, pred)\n",
    "print(cm)"
   ]
  },
  {
   "cell_type": "code",
   "execution_count": 54,
   "metadata": {},
   "outputs": [],
   "source": [
    "# Function to plot Confusion_Matrix\n",
    "\n",
    "def Confusion_Matrix(q,w):\n",
    "    class_label = [\"negative\", \"positive\"]\n",
    "    df_cm = pd.DataFrame(cm, index = class_label, columns = class_label)\n",
    "    sns.heatmap(df_cm, annot = True, fmt = \"d\")\n",
    "    plt.title(\"Confusiion Matrix\")\n",
    "    plt.xlabel(\"Predicted Label\")\n",
    "    plt.ylabel(\"True Label\")\n",
    "    plt.show()"
   ]
  },
  {
   "cell_type": "code",
   "execution_count": 64,
   "metadata": {},
   "outputs": [
    {
     "data": {
      "image/png": "[encoded data removed]",
      "text/plain": [
       "<Figure size 432x288 with 2 Axes>"
      ]
     },
     "metadata": {},
     "output_type": "display_data"
    }
   ],
   "source": [
    "Confusion_Matrix(y_test, pred)"
   ]
  },
  {
   "cell_type": "code",
   "execution_count": 50,
   "metadata": {},
   "outputs": [
    {
     "name": "stdout",
     "output_type": "stream",
     "text": [
      "[['disappoint' 'return' 'wast' ... 'good' 'love' 'great']]\n",
      "[['disappoint' 'return' 'wast' ... 'good' 'love' 'great']]\n"
     ]
    }
   ],
   "source": [
    "# Feature importance \n",
    "\n",
    "pos_feat  = classifier.coef_[:10].argsort()\n",
    "neg_feat  = classifier.coef_[:10].argsort()\n",
    "\n",
    "print(np.take(abc.get_feature_names() , neg_feat[:10]))\n",
    "print(np.take(abc.get_feature_names() , pos_feat[:10]))"
   ]
  },
  {
   "cell_type": "code",
   "execution_count": null,
   "metadata": {},
   "outputs": [],
   "source": [
    "# Changing the Hyperparameter and observing changes on Error on train data"
   ]
  },
  {
   "cell_type": "code",
   "execution_count": 42,
   "metadata": {},
   "outputs": [
    {
     "name": "stdout",
     "output_type": "stream",
     "text": [
      "Accuracy on traning data is  0.9230857142857143\n"
     ]
    }
   ],
   "source": [
    "classifier = linear_model.SGDClassifier(penalty='l2', alpha=0.001, loss='hinge')\n",
    "classifier.fit(X_train, y_train)\n",
    "tr_score = classifier.score(X_train, y_train)\n",
    "print('Accuracy on traning data is ' , tr_score)"
   ]
  },
  {
   "cell_type": "code",
   "execution_count": 43,
   "metadata": {},
   "outputs": [
    {
     "name": "stdout",
     "output_type": "stream",
     "text": [
      "Train Error 0.076914%\n"
     ]
    }
   ],
   "source": [
    "# Error on train data\n",
    "train_err_bow = 1-tr_score\n",
    "print(\"Train Error %f%%\" % (train_err_bow))"
   ]
  },
  {
   "cell_type": "code",
   "execution_count": 33,
   "metadata": {},
   "outputs": [
    {
     "name": "stdout",
     "output_type": "stream",
     "text": [
      "Accuracy on traning data is  0.8984571428571428\n"
     ]
    }
   ],
   "source": [
    "classifier = linear_model.SGDClassifier(penalty='l2', alpha=0.01, loss='hinge')\n",
    "classifier.fit(X_train, y_train)\n",
    "tr_score = classifier.score(X_train, y_train)\n",
    "print('Accuracy on traning data is ' , tr_score)"
   ]
  },
  {
   "cell_type": "code",
   "execution_count": 34,
   "metadata": {},
   "outputs": [
    {
     "name": "stdout",
     "output_type": "stream",
     "text": [
      "Train Error 0.101543%\n"
     ]
    }
   ],
   "source": [
    "# Error on train data\n",
    "train_err_bow = 1-tr_score\n",
    "print(\"Train Error %f%%\" % (train_err_bow))"
   ]
  },
  {
   "cell_type": "code",
   "execution_count": 35,
   "metadata": {},
   "outputs": [
    {
     "name": "stdout",
     "output_type": "stream",
     "text": [
      "Accuracy on traning data is  0.9241828571428572\n"
     ]
    }
   ],
   "source": [
    "classifier = linear_model.SGDClassifier(penalty='l2', alpha=0.001, loss='hinge')\n",
    "classifier.fit(X_train, y_train)\n",
    "tr_score = classifier.score(X_train, y_train)\n",
    "print('Accuracy on traning data is ' , tr_score)"
   ]
  },
  {
   "cell_type": "code",
   "execution_count": 36,
   "metadata": {},
   "outputs": [
    {
     "name": "stdout",
     "output_type": "stream",
     "text": [
      "Train Error 0.075817%\n"
     ]
    }
   ],
   "source": [
    "# Error on train data\n",
    "train_err_bow = 1-tr_score\n",
    "print(\"Train Error %f%%\" % (train_err_bow))"
   ]
  },
  {
   "cell_type": "code",
   "execution_count": 37,
   "metadata": {},
   "outputs": [
    {
     "name": "stdout",
     "output_type": "stream",
     "text": [
      "Accuracy on traning data is  0.8607542857142857\n"
     ]
    }
   ],
   "source": [
    "classifier = linear_model.SGDClassifier(penalty='l2', alpha=5, loss='hinge')\n",
    "classifier.fit(X_train, y_train)\n",
    "tr_score = classifier.score(X_train, y_train)\n",
    "print('Accuracy on traning data is ' , tr_score)"
   ]
  },
  {
   "cell_type": "code",
   "execution_count": 38,
   "metadata": {},
   "outputs": [
    {
     "name": "stdout",
     "output_type": "stream",
     "text": [
      "Train Error 0.139246%\n"
     ]
    }
   ],
   "source": [
    "# Error on train data\n",
    "train_err_bow = 1-tr_score\n",
    "print(\"Train Error %f%%\" % (train_err_bow))"
   ]
  },
  {
   "cell_type": "code",
   "execution_count": 44,
   "metadata": {},
   "outputs": [
    {
     "data": {
      "image/png": "[encoded data removed]",
      "text/plain": [
       "<Figure size 432x288 with 1 Axes>"
      ]
     },
     "metadata": {},
     "output_type": "display_data"
    }
   ],
   "source": [
    "x= [ 0.1 , 0.01 ,0.001, 5 ]\n",
    "y= [ 0.066914 , 0.051543 ,0.075817 , 0.139246]\n",
    "\n",
    "# importing the required module \n",
    "import matplotlib.pyplot as plt \n",
    "  \n",
    "# plotting the graph of train data error vs hyperparameter alpha\n",
    "plt.plot(x, y) \n",
    "  \n",
    "# naming the x axis \n",
    "plt.xlabel('x - axis') \n",
    "# naming the y axis \n",
    "plt.ylabel('y - axis') \n",
    "  \n",
    "# giving a title to my graph \n",
    "plt.title('CV Error') \n",
    "  \n",
    "# function to show the plot \n",
    "plt.show() "
   ]
  },
  {
   "cell_type": "markdown",
   "metadata": {},
   "source": [
    "### Training the SGDClassifier using Random Search with L2 - Regularization"
   ]
  },
  {
   "cell_type": "code",
   "execution_count": 45,
   "metadata": {},
   "outputs": [
    {
     "data": {
      "text/plain": [
       "{'alpha': 0.0320622028840295}"
      ]
     },
     "execution_count": 45,
     "metadata": {},
     "output_type": "execute_result"
    }
   ],
   "source": [
    "from sklearn.model_selection import RandomizedSearchCV\n",
    "from scipy.stats import uniform\n",
    "\n",
    "svm = linear_model.SGDClassifier(loss='hinge')\n",
    "my_cv = TimeSeriesSplit(n_splits=2).split(X_train)\n",
    "random_parameters = {'alpha':uniform()}\n",
    "randomSearchModel = RandomizedSearchCV(svm, random_parameters, cv=my_cv)\n",
    "randomSearchModel.fit(X_train, y_train)\n",
    "randomSearchModel.best_params_"
   ]
  },
  {
   "cell_type": "code",
   "execution_count": 56,
   "metadata": {},
   "outputs": [
    {
     "name": "stdout",
     "output_type": "stream",
     "text": [
      "Accuracy on traning data is  0.9112228571428571\n"
     ]
    }
   ],
   "source": [
    "classifier = linear_model.SGDClassifier(penalty='l2', alpha= 0.00320622028840295, loss='hinge')\n",
    "classifier.fit(X_train, y_train)\n",
    "tr_score = classifier.score(X_train, y_train)\n",
    "print('Accuracy on traning data is ' , tr_score)"
   ]
  },
  {
   "cell_type": "code",
   "execution_count": 57,
   "metadata": {},
   "outputs": [
    {
     "name": "stdout",
     "output_type": "stream",
     "text": [
      "Accuracy on test data is  0.8939733333333333\n"
     ]
    }
   ],
   "source": [
    "pred = classifier.predict(x_test)\n",
    "\n",
    "accuracy = f1_score(y_test, pred , average = 'micro')\n",
    "print ('Accuracy on test data is ',accuracy)"
   ]
  },
  {
   "cell_type": "code",
   "execution_count": 58,
   "metadata": {},
   "outputs": [
    {
     "name": "stdout",
     "output_type": "stream",
     "text": [
      "Train Error 0.088777%\n"
     ]
    }
   ],
   "source": [
    "# Error on train data\n",
    "train_err_bow = 1-tr_score\n",
    "print(\"Train Error %f%%\" % (train_err_bow))"
   ]
  },
  {
   "cell_type": "code",
   "execution_count": 59,
   "metadata": {},
   "outputs": [
    {
     "name": "stdout",
     "output_type": "stream",
     "text": [
      "[[ 5549  7297]\n",
      " [  655 61499]]\n"
     ]
    }
   ],
   "source": [
    "from sklearn.metrics import confusion_matrix\n",
    "cm = confusion_matrix(y_test, pred)\n",
    "print(cm)"
   ]
  },
  {
   "cell_type": "code",
   "execution_count": 62,
   "metadata": {},
   "outputs": [
    {
     "data": {
      "image/png": "[encoded data removed]",
      "text/plain": [
       "<Figure size 432x288 with 2 Axes>"
      ]
     },
     "metadata": {},
     "output_type": "display_data"
    }
   ],
   "source": [
    "Confusion_Matrix(y_test, pred)"
   ]
  },
  {
   "cell_type": "code",
   "execution_count": 63,
   "metadata": {},
   "outputs": [
    {
     "name": "stdout",
     "output_type": "stream",
     "text": [
      "Accuracy on traning data is  0.8612\n"
     ]
    }
   ],
   "source": [
    "classifier = linear_model.SGDClassifier(penalty='l2', alpha= 0.1, loss='hinge')\n",
    "classifier.fit(X_train, y_train)\n",
    "tr_score = classifier.score(X_train, y_train)\n",
    "print('Accuracy on traning data is ' , tr_score)"
   ]
  },
  {
   "cell_type": "code",
   "execution_count": 64,
   "metadata": {},
   "outputs": [
    {
     "name": "stdout",
     "output_type": "stream",
     "text": [
      "Train Error 0.138800%\n"
     ]
    }
   ],
   "source": [
    "# Error on train data\n",
    "train_err_bow = 1-tr_score\n",
    "print(\"Train Error %f%%\" % (train_err_bow))"
   ]
  },
  {
   "cell_type": "code",
   "execution_count": 65,
   "metadata": {},
   "outputs": [
    {
     "name": "stdout",
     "output_type": "stream",
     "text": [
      "Accuracy on traning data is  0.8961371428571429\n"
     ]
    }
   ],
   "source": [
    "classifier = linear_model.SGDClassifier(penalty='l2', alpha= 0.01, loss='hinge')\n",
    "classifier.fit(X_train, y_train)\n",
    "tr_score = classifier.score(X_train, y_train)\n",
    "print('Accuracy on traning data is ' , tr_score)"
   ]
  },
  {
   "cell_type": "code",
   "execution_count": 66,
   "metadata": {},
   "outputs": [
    {
     "name": "stdout",
     "output_type": "stream",
     "text": [
      "Train Error 0.103863%\n"
     ]
    }
   ],
   "source": [
    "# Error on train data\n",
    "train_err_bow = 1-tr_score\n",
    "print(\"Train Error %f%%\" % (train_err_bow))"
   ]
  },
  {
   "cell_type": "code",
   "execution_count": 67,
   "metadata": {},
   "outputs": [
    {
     "name": "stdout",
     "output_type": "stream",
     "text": [
      "Accuracy on traning data is  0.9241428571428572\n"
     ]
    }
   ],
   "source": [
    "classifier = linear_model.SGDClassifier(penalty='l2', alpha= 0.001, loss='hinge')\n",
    "classifier.fit(X_train, y_train)\n",
    "tr_score = classifier.score(X_train, y_train)\n",
    "print('Accuracy on traning data is ' , tr_score)"
   ]
  },
  {
   "cell_type": "code",
   "execution_count": 68,
   "metadata": {},
   "outputs": [
    {
     "name": "stdout",
     "output_type": "stream",
     "text": [
      "Train Error 0.075857%\n"
     ]
    }
   ],
   "source": [
    "# Error on train data\n",
    "train_err_bow = 1-tr_score\n",
    "print(\"Train Error %f%%\" % (train_err_bow))"
   ]
  },
  {
   "cell_type": "code",
   "execution_count": 69,
   "metadata": {},
   "outputs": [
    {
     "name": "stdout",
     "output_type": "stream",
     "text": [
      "Accuracy on traning data is  0.8607542857142857\n"
     ]
    }
   ],
   "source": [
    "classifier = linear_model.SGDClassifier(penalty='l2', alpha= 5, loss='hinge')\n",
    "classifier.fit(X_train, y_train)\n",
    "tr_score = classifier.score(X_train, y_train)\n",
    "print('Accuracy on traning data is ' , tr_score)"
   ]
  },
  {
   "cell_type": "code",
   "execution_count": 70,
   "metadata": {},
   "outputs": [
    {
     "name": "stdout",
     "output_type": "stream",
     "text": [
      "Train Error 0.139246%\n"
     ]
    }
   ],
   "source": [
    "# Error on train data\n",
    "train_err_bow = 1-tr_score\n",
    "print(\"Train Error %f%%\" % (train_err_bow))"
   ]
  },
  {
   "cell_type": "code",
   "execution_count": 71,
   "metadata": {},
   "outputs": [
    {
     "data": {
      "image/png": "[encoded data removed]",
      "text/plain": [
       "<Figure size 432x288 with 1 Axes>"
      ]
     },
     "metadata": {},
     "output_type": "display_data"
    }
   ],
   "source": [
    "x= [ 0.1 , 0.01 ,0.001, 5 ]\n",
    "y= [ 0.138800 , 0.103863 ,0.075857, 0.139246]\n",
    "\n",
    "# importing the required module \n",
    "import matplotlib.pyplot as plt \n",
    "  \n",
    "# plotting the graph of train data error vs hyperparameter alpha\n",
    "plt.plot(x, y) \n",
    "  \n",
    "# naming the x axis \n",
    "plt.xlabel('x - axis') \n",
    "# naming the y axis \n",
    "plt.ylabel('y - axis') \n",
    "  \n",
    "# giving a title to my graph \n",
    "plt.title('CV Error') \n",
    "  \n",
    "# function to show the plot \n",
    "plt.show() "
   ]
  },
  {
   "cell_type": "markdown",
   "metadata": {},
   "source": [
    "## Avg Word2Vec"
   ]
  },
  {
   "cell_type": "code",
   "execution_count": 208,
   "metadata": {},
   "outputs": [
    {
     "name": "stdout",
     "output_type": "stream",
     "text": [
      "(175000,) (75000,) (175000,) (75000,)\n"
     ]
    }
   ],
   "source": [
    "X_train, x_test, y_train, y_test = train_test_split(X, y, test_size = 0.3, shuffle =False)\n",
    "print(X_train.shape, x_test.shape, y_train.shape, y_test.shape)"
   ]
  },
  {
   "cell_type": "code",
   "execution_count": 209,
   "metadata": {},
   "outputs": [],
   "source": [
    "import re\n",
    "\n",
    "def cleanhtml(sentence): #function to clean the word of any html-tags\n",
    "    cleanr = re.compile('<.*?>')\n",
    "    cleantext = re.sub(cleanr, ' ', sentence)\n",
    "    return cleantext\n",
    "def cleanpunc(sentence): #function to clean the word of any punctuation or special characters\n",
    "    cleaned = re.sub(r'[?|!|\\'|\"|#]',r'',sentence)\n",
    "    cleaned = re.sub(r'[.|,|)|(|\\|/]',r' ',cleaned)\n",
    "    return  cleaned"
   ]
  },
  {
   "cell_type": "code",
   "execution_count": 210,
   "metadata": {},
   "outputs": [],
   "source": [
    "# Train your own Word2Vec model using your own train text corpus\n",
    "import gensim\n",
    "list_of_sent=[]\n",
    "for sent in X_train:\n",
    "    filtered_sentence=[]\n",
    "    sent=cleanhtml(sent)\n",
    "    for w in sent.split():\n",
    "        for cleaned_words in cleanpunc(w).split():\n",
    "            if(cleaned_words.isalpha()):    \n",
    "                filtered_sentence.append(cleaned_words.lower())\n",
    "            else:\n",
    "                continue \n",
    "    list_of_sent.append(filtered_sentence)"
   ]
  },
  {
   "cell_type": "code",
   "execution_count": 211,
   "metadata": {},
   "outputs": [],
   "source": [
    "# Train your own Word2Vec model using your own test text corpus\n",
    "import gensim\n",
    "list_of_sent_test = []\n",
    "#for sent in final_40k['Text'].values:\n",
    "for sent in x_test:\n",
    "    filtered_sentence=[]\n",
    "    sent=cleanhtml(sent)\n",
    "    for w in sent.split():\n",
    "        for cleaned_words in cleanpunc(w).split():\n",
    "            if(cleaned_words.isalpha()):    \n",
    "                filtered_sentence.append(cleaned_words.lower())\n",
    "            else:\n",
    "                continue \n",
    "    list_of_sent_test.append(filtered_sentence)"
   ]
  },
  {
   "cell_type": "code",
   "execution_count": 212,
   "metadata": {},
   "outputs": [],
   "source": [
    "# min_count = 5 considers only words that occured atleast 5 times\n",
    "\n",
    "w2v_model=gensim.models.Word2Vec(list_of_sent,min_count=5,size=50, workers=4)"
   ]
  },
  {
   "cell_type": "code",
   "execution_count": 213,
   "metadata": {},
   "outputs": [
    {
     "name": "stdout",
     "output_type": "stream",
     "text": [
      "175000\n",
      "50\n"
     ]
    }
   ],
   "source": [
    "# average Word2Vec\n",
    "# compute average word2vec for each review.\n",
    "sent_vectors = []; # the avg-w2v for each sentence/review is stored in this list\n",
    "for sent in list_of_sent: # for each review/sentence\n",
    "    sent_vec = np.zeros(50) # as word vectors are of zero length\n",
    "    cnt_words =0; # num of words with a valid vector in the sentence/review\n",
    "    for word in sent: # for each word in a review/sentence\n",
    "        try:\n",
    "            vec = w2v_model.wv[word]\n",
    "            sent_vec += vec\n",
    "            cnt_words += 1\n",
    "        except:\n",
    "            pass\n",
    "    sent_vec /= cnt_words\n",
    "    sent_vectors.append(sent_vec)\n",
    "print(len(sent_vectors))\n",
    "print(len(sent_vectors[0]))"
   ]
  },
  {
   "cell_type": "code",
   "execution_count": 214,
   "metadata": {},
   "outputs": [
    {
     "name": "stdout",
     "output_type": "stream",
     "text": [
      "75000\n",
      "50\n"
     ]
    }
   ],
   "source": [
    "# average Word2Vec\n",
    "# compute average word2vec for each review.\n",
    "sent_vectors_test = []; # the avg-w2v for each sentence/review is stored in this list\n",
    "for sent in list_of_sent_test: # for each review/sentence\n",
    "    sent_vec = np.zeros(50) # as word vectors are of zero length\n",
    "    cnt_words =0; # num of words with a valid vector in the sentence/review\n",
    "    for word in sent: # for each word in a review/sentence\n",
    "        try:\n",
    "            vec = w2v_model.wv[word]\n",
    "            sent_vec += vec\n",
    "            cnt_words += 1\n",
    "        except:\n",
    "            pass\n",
    "    sent_vec /= cnt_words\n",
    "    sent_vectors_test.append(sent_vec)\n",
    "print(len(sent_vectors_test))\n",
    "print(len(sent_vectors_test[0]))"
   ]
  },
  {
   "cell_type": "code",
   "execution_count": 215,
   "metadata": {},
   "outputs": [],
   "source": [
    "X_train = sent_vectors"
   ]
  },
  {
   "cell_type": "code",
   "execution_count": 216,
   "metadata": {},
   "outputs": [],
   "source": [
    "x_test = sent_vectors_test"
   ]
  },
  {
   "cell_type": "code",
   "execution_count": 217,
   "metadata": {},
   "outputs": [],
   "source": [
    "X_train = np.nan_to_num(X_train)"
   ]
  },
  {
   "cell_type": "code",
   "execution_count": 218,
   "metadata": {},
   "outputs": [],
   "source": [
    "x_test = np.nan_to_num(x_test)"
   ]
  },
  {
   "cell_type": "markdown",
   "metadata": {},
   "source": [
    "### Training the SGDClassifier using GridSearchCV with L2 - Regularization"
   ]
  },
  {
   "cell_type": "code",
   "execution_count": 144,
   "metadata": {},
   "outputs": [
    {
     "data": {
      "text/plain": [
       "{'alpha': 0.01}"
      ]
     },
     "execution_count": 144,
     "metadata": {},
     "output_type": "execute_result"
    }
   ],
   "source": [
    "# training the SGDClassifier model , getting the best parameter\n",
    "\n",
    "svm = linear_model.SGDClassifier(loss='hinge')\n",
    "\n",
    "my_cv = TimeSeriesSplit(n_splits=2).split(X_train)\n",
    "\n",
    "grid_parameters = {'alpha':[10**-2, 10**-1, 1, 10, 100]}\n",
    "gridSearchModel = GridSearchCV(svm, grid_parameters, cv=my_cv)\n",
    "gridSearchModel.fit(X_train, y_train)\n",
    "gridSearchModel.best_params_\n"
   ]
  },
  {
   "cell_type": "code",
   "execution_count": 145,
   "metadata": {},
   "outputs": [
    {
     "name": "stdout",
     "output_type": "stream",
     "text": [
      "Accuracy for traning model is 0.8903142857142857\n"
     ]
    }
   ],
   "source": [
    "classifier = linear_model.SGDClassifier(penalty='l2', alpha=gridSearchModel.best_params_['alpha'] ,loss='hinge')\n",
    "classifier.fit(X_train, y_train)\n",
    "tr_score = classifier.score(X_train, y_train)\n",
    "print('Accuracy for traning model is', tr_score)"
   ]
  },
  {
   "cell_type": "code",
   "execution_count": 146,
   "metadata": {},
   "outputs": [
    {
     "name": "stdout",
     "output_type": "stream",
     "text": [
      "Accuracy on test data is  0.86952\n"
     ]
    }
   ],
   "source": [
    "pred = classifier.predict(x_test)\n",
    "\n",
    "accuracy = f1_score(y_test, pred , average = 'micro')\n",
    "print ('Accuracy on test data is ',accuracy)"
   ]
  },
  {
   "cell_type": "code",
   "execution_count": 147,
   "metadata": {},
   "outputs": [
    {
     "name": "stdout",
     "output_type": "stream",
     "text": [
      "Train Error 0.109686%\n"
     ]
    }
   ],
   "source": [
    "# Error on train data\n",
    "train_err_bow = 1-tr_score\n",
    "print(\"Train Error %f%%\" % (train_err_bow))"
   ]
  },
  {
   "cell_type": "code",
   "execution_count": 148,
   "metadata": {},
   "outputs": [
    {
     "name": "stdout",
     "output_type": "stream",
     "text": [
      "[['aagh' 'aaaaaaaaagghh' 'aaah' 'aback' 'aaaaah' 'abat' 'abandn' 'aaagh'\n",
      "  'aaa' 'aaaaaahhhhhyaaaaaa' 'aaaand' 'aachen' 'aaaaawsom' 'aa' 'aarrgh'\n",
      "  'aaaaahhhhhhhhhhhhhhhh' 'aand' 'ab' 'aap' 'aadp' 'aah' 'abaolut'\n",
      "  'aaaaaaarrrrrggghhh' 'abattoir' 'abba' 'aaf' 'abalon' 'abandon'\n",
      "  'abamectin' 'aalmost' 'aahh' 'aardvark' 'aaaaaand' 'aafter' 'aaaaaahhh'\n",
      "  'aacur' 'aad' 'abbazabba' 'aaaaaahhhh' 'aani' 'aamzon' 'aaahhhhhh'\n",
      "  'aar' 'aaaahhhhhh' 'aaaah' 'aafco' 'aamazon' 'aaaa' 'aaahhh'\n",
      "  'aaaaaaaaaaaaaaaaaaaargh']]\n",
      "[['aagh' 'aaaaaaaaagghh' 'aaah' 'aback' 'aaaaah' 'abat' 'abandn' 'aaagh'\n",
      "  'aaa' 'aaaaaahhhhhyaaaaaa' 'aaaand' 'aachen' 'aaaaawsom' 'aa' 'aarrgh'\n",
      "  'aaaaahhhhhhhhhhhhhhhh' 'aand' 'ab' 'aap' 'aadp' 'aah' 'abaolut'\n",
      "  'aaaaaaarrrrrggghhh' 'abattoir' 'abba' 'aaf' 'abalon' 'abandon'\n",
      "  'abamectin' 'aalmost' 'aahh' 'aardvark' 'aaaaaand' 'aafter' 'aaaaaahhh'\n",
      "  'aacur' 'aad' 'abbazabba' 'aaaaaahhhh' 'aani' 'aamzon' 'aaahhhhhh'\n",
      "  'aar' 'aaaahhhhhh' 'aaaah' 'aafco' 'aamazon' 'aaaa' 'aaahhh'\n",
      "  'aaaaaaaaaaaaaaaaaaaargh']]\n"
     ]
    }
   ],
   "source": [
    "# Feature importance \n",
    "\n",
    "pos_feat  = classifier.coef_[:10].argsort()\n",
    "neg_feat  = classifier.coef_[:10].argsort()\n",
    "\n",
    "print(np.take(abc.get_feature_names() , neg_feat[:10]))\n",
    "print(np.take(abc.get_feature_names() , pos_feat[:10]))"
   ]
  },
  {
   "cell_type": "code",
   "execution_count": 149,
   "metadata": {},
   "outputs": [
    {
     "name": "stdout",
     "output_type": "stream",
     "text": [
      "[[ 3727  9114]\n",
      " [  672 61487]]\n"
     ]
    }
   ],
   "source": [
    "from sklearn.metrics import confusion_matrix\n",
    "cm = confusion_matrix(y_test, pred)\n",
    "print(cm)"
   ]
  },
  {
   "cell_type": "code",
   "execution_count": 150,
   "metadata": {},
   "outputs": [
    {
     "data": {
      "image/png": "[encoded data removed]",
      "text/plain": [
       "<Figure size 432x288 with 2 Axes>"
      ]
     },
     "metadata": {},
     "output_type": "display_data"
    }
   ],
   "source": [
    "Confusion_Matrix(y_test, pred)"
   ]
  },
  {
   "cell_type": "code",
   "execution_count": 151,
   "metadata": {},
   "outputs": [
    {
     "name": "stdout",
     "output_type": "stream",
     "text": [
      "Accuracy for traning model is 0.8607257142857143\n"
     ]
    }
   ],
   "source": [
    "classifier = linear_model.SGDClassifier(penalty='l2', alpha=0.1 ,loss='hinge')\n",
    "classifier.fit(X_train, y_train)\n",
    "tr_score = classifier.score(X_train, y_train)\n",
    "print('Accuracy for traning model is', tr_score)"
   ]
  },
  {
   "cell_type": "code",
   "execution_count": 152,
   "metadata": {},
   "outputs": [
    {
     "name": "stdout",
     "output_type": "stream",
     "text": [
      "Train Error 0.139274%\n"
     ]
    }
   ],
   "source": [
    "# Error on train data\n",
    "train_err_bow = 1-tr_score\n",
    "print(\"Train Error %f%%\" % (train_err_bow))"
   ]
  },
  {
   "cell_type": "code",
   "execution_count": 153,
   "metadata": {},
   "outputs": [
    {
     "name": "stdout",
     "output_type": "stream",
     "text": [
      "Accuracy for traning model is 0.8900742857142857\n"
     ]
    }
   ],
   "source": [
    "classifier = linear_model.SGDClassifier(penalty='l2', alpha=0.01 ,loss='hinge')\n",
    "classifier.fit(X_train, y_train)\n",
    "tr_score = classifier.score(X_train, y_train)\n",
    "print('Accuracy for traning model is', tr_score)"
   ]
  },
  {
   "cell_type": "code",
   "execution_count": 154,
   "metadata": {},
   "outputs": [
    {
     "name": "stdout",
     "output_type": "stream",
     "text": [
      "Train Error 0.109926%\n"
     ]
    }
   ],
   "source": [
    "# Error on train data\n",
    "train_err_bow = 1-tr_score\n",
    "print(\"Train Error %f%%\" % (train_err_bow))"
   ]
  },
  {
   "cell_type": "code",
   "execution_count": 155,
   "metadata": {},
   "outputs": [
    {
     "name": "stdout",
     "output_type": "stream",
     "text": [
      "Accuracy for traning model is 0.9000628571428572\n"
     ]
    }
   ],
   "source": [
    "classifier = linear_model.SGDClassifier(penalty='l2', alpha=0.001 ,loss='hinge')\n",
    "classifier.fit(X_train, y_train)\n",
    "tr_score = classifier.score(X_train, y_train)\n",
    "print('Accuracy for traning model is', tr_score)"
   ]
  },
  {
   "cell_type": "code",
   "execution_count": 156,
   "metadata": {},
   "outputs": [
    {
     "name": "stdout",
     "output_type": "stream",
     "text": [
      "Train Error 0.099937%\n"
     ]
    }
   ],
   "source": [
    "# Error on train data\n",
    "train_err_bow = 1-tr_score\n",
    "print(\"Train Error %f%%\" % (train_err_bow))"
   ]
  },
  {
   "cell_type": "code",
   "execution_count": 157,
   "metadata": {},
   "outputs": [
    {
     "name": "stdout",
     "output_type": "stream",
     "text": [
      "Accuracy for traning model is 0.8607257142857143\n"
     ]
    }
   ],
   "source": [
    "classifier = linear_model.SGDClassifier(penalty='l2', alpha=5 ,loss='hinge')\n",
    "classifier.fit(X_train, y_train)\n",
    "tr_score = classifier.score(X_train, y_train)\n",
    "print('Accuracy for traning model is', tr_score)"
   ]
  },
  {
   "cell_type": "code",
   "execution_count": 158,
   "metadata": {},
   "outputs": [
    {
     "name": "stdout",
     "output_type": "stream",
     "text": [
      "Train Error 0.139274%\n"
     ]
    }
   ],
   "source": [
    "# Error on train data\n",
    "train_err_bow = 1-tr_score\n",
    "print(\"Train Error %f%%\" % (train_err_bow))"
   ]
  },
  {
   "cell_type": "code",
   "execution_count": 159,
   "metadata": {},
   "outputs": [
    {
     "data": {
      "image/png": "[encoded data removed]",
      "text/plain": [
       "<Figure size 432x288 with 1 Axes>"
      ]
     },
     "metadata": {},
     "output_type": "display_data"
    }
   ],
   "source": [
    "x= [ 0.1 , 0.01 ,0.001, 5 ]\n",
    "y= [ 0.139274, 0.109926 ,0.099937, 0.139274]\n",
    "\n",
    "# importing the required module \n",
    "import matplotlib.pyplot as plt \n",
    "  \n",
    "# plotting the graph of train data error vs hyperparameter alpha\n",
    "plt.plot(x, y) \n",
    "  \n",
    "# naming the x axis \n",
    "plt.xlabel('x - axis') \n",
    "# naming the y axis \n",
    "plt.ylabel('y - axis') \n",
    "  \n",
    "# giving a title to my graph \n",
    "plt.title('CV Error') \n",
    "  \n",
    "# function to show the plot \n",
    "plt.show() "
   ]
  },
  {
   "cell_type": "markdown",
   "metadata": {},
   "source": [
    "### Training the SGDClassifier using Random Search with L2 - Regularization"
   ]
  },
  {
   "cell_type": "code",
   "execution_count": 160,
   "metadata": {},
   "outputs": [
    {
     "data": {
      "text/plain": [
       "{'alpha': 0.10698436250939469}"
      ]
     },
     "execution_count": 160,
     "metadata": {},
     "output_type": "execute_result"
    }
   ],
   "source": [
    "from sklearn.model_selection import RandomizedSearchCV\n",
    "from scipy.stats import uniform\n",
    "\n",
    "svm = linear_model.SGDClassifier(loss='hinge')\n",
    "my_cv = TimeSeriesSplit(n_splits=2).split(X_train)\n",
    "random_parameters = {'alpha':uniform()}\n",
    "randomSearchModel = RandomizedSearchCV(svm, random_parameters, cv=my_cv)\n",
    "randomSearchModel.fit(X_train, y_train)\n",
    "randomSearchModel.best_params_"
   ]
  },
  {
   "cell_type": "code",
   "execution_count": 332,
   "metadata": {},
   "outputs": [
    {
     "name": "stdout",
     "output_type": "stream",
     "text": [
      "Accuracy on traning data is  0.9243542857142857\n"
     ]
    }
   ],
   "source": [
    "classifier = linear_model.SGDClassifier(penalty='l2', alpha=randomSearchModel.best_params_['alpha'], loss='hinge')\n",
    "classifier.fit(X_train, y_train)\n",
    "tr_score = classifier.score(X_train, y_train)\n",
    "print('Accuracy on traning data is ' , tr_score)"
   ]
  },
  {
   "cell_type": "code",
   "execution_count": 333,
   "metadata": {},
   "outputs": [
    {
     "name": "stdout",
     "output_type": "stream",
     "text": [
      "Accuracy on test data is  0.83284\n"
     ]
    }
   ],
   "source": [
    "pred = classifier.predict(x_test)\n",
    "\n",
    "accuracy = f1_score(y_test, pred , average = 'micro')\n",
    "print ('Accuracy on test data is ',accuracy)"
   ]
  },
  {
   "cell_type": "code",
   "execution_count": 334,
   "metadata": {},
   "outputs": [
    {
     "name": "stdout",
     "output_type": "stream",
     "text": [
      "Train Error 0.075646%\n"
     ]
    }
   ],
   "source": [
    "# Error on train data\n",
    "train_err_bow = 1-tr_score\n",
    "print(\"Train Error %f%%\" % (train_err_bow))"
   ]
  },
  {
   "cell_type": "code",
   "execution_count": 164,
   "metadata": {},
   "outputs": [
    {
     "name": "stdout",
     "output_type": "stream",
     "text": [
      "[['aagh' 'aaaaaaaaagghh' 'aaah' 'aback' 'abandn' 'aaaaah' 'aaagh' 'abat'\n",
      "  'aaa' 'aaaaaahhhhhyaaaaaa' 'aaaand' 'aaaaawsom' 'aachen' 'aa' 'aarrgh'\n",
      "  'aaaaahhhhhhhhhhhhhhhh' 'aand' 'aap' 'aah' 'ab' 'abaolut' 'abattoir'\n",
      "  'aadp' 'aaaaaaarrrrrggghhh' 'abalon' 'aaf' 'abamectin' 'abba' 'abandon'\n",
      "  'aalmost' 'aahh' 'aafter' 'aaaaaand' 'aacur' 'aardvark' 'aaaaaahhh'\n",
      "  'aad' 'aaaaaahhhh' 'abbazabba' 'aamzon' 'aani' 'aaahhhhhh' 'aar'\n",
      "  'aaaahhhhhh' 'aaaah' 'aafco' 'aaaa' 'aamazon' 'aaahhh'\n",
      "  'aaaaaaaaaaaaaaaaaaaargh']]\n",
      "[['aagh' 'aaaaaaaaagghh' 'aaah' 'aback' 'abandn' 'aaaaah' 'aaagh' 'abat'\n",
      "  'aaa' 'aaaaaahhhhhyaaaaaa' 'aaaand' 'aaaaawsom' 'aachen' 'aa' 'aarrgh'\n",
      "  'aaaaahhhhhhhhhhhhhhhh' 'aand' 'aap' 'aah' 'ab' 'abaolut' 'abattoir'\n",
      "  'aadp' 'aaaaaaarrrrrggghhh' 'abalon' 'aaf' 'abamectin' 'abba' 'abandon'\n",
      "  'aalmost' 'aahh' 'aafter' 'aaaaaand' 'aacur' 'aardvark' 'aaaaaahhh'\n",
      "  'aad' 'aaaaaahhhh' 'abbazabba' 'aamzon' 'aani' 'aaahhhhhh' 'aar'\n",
      "  'aaaahhhhhh' 'aaaah' 'aafco' 'aaaa' 'aamazon' 'aaahhh'\n",
      "  'aaaaaaaaaaaaaaaaaaaargh']]\n"
     ]
    }
   ],
   "source": [
    "# Feature importance \n",
    "\n",
    "pos_feat  = classifier.coef_[:10].argsort()\n",
    "neg_feat  = classifier.coef_[:10].argsort()\n",
    "\n",
    "print(np.take(abc.get_feature_names() , neg_feat[:10]))\n",
    "print(np.take(abc.get_feature_names() , pos_feat[:10]))"
   ]
  },
  {
   "cell_type": "code",
   "execution_count": 335,
   "metadata": {},
   "outputs": [
    {
     "name": "stdout",
     "output_type": "stream",
     "text": [
      "[[  302 12534]\n",
      " [    3 62161]]\n"
     ]
    }
   ],
   "source": [
    "from sklearn.metrics import confusion_matrix\n",
    "cm = confusion_matrix(y_test, pred)\n",
    "print(cm)"
   ]
  },
  {
   "cell_type": "code",
   "execution_count": 336,
   "metadata": {},
   "outputs": [
    {
     "data": {
      "image/png": "[encoded data removed]",
      "text/plain": [
       "<Figure size 432x288 with 2 Axes>"
      ]
     },
     "metadata": {},
     "output_type": "display_data"
    }
   ],
   "source": [
    "Confusion_Matrix(y_test, pred)"
   ]
  },
  {
   "cell_type": "code",
   "execution_count": 119,
   "metadata": {},
   "outputs": [
    {
     "name": "stdout",
     "output_type": "stream",
     "text": [
      "Accuracy on traning data is  0.8607257142857143\n"
     ]
    }
   ],
   "source": [
    "classifier = linear_model.SGDClassifier(penalty='l2', alpha=0.1, loss='hinge')\n",
    "classifier.fit(X_train, y_train)\n",
    "tr_score = classifier.score(X_train, y_train)\n",
    "print('Accuracy on traning data is ' , tr_score)"
   ]
  },
  {
   "cell_type": "code",
   "execution_count": 120,
   "metadata": {},
   "outputs": [
    {
     "name": "stdout",
     "output_type": "stream",
     "text": [
      "Train Error 0.139274%\n"
     ]
    }
   ],
   "source": [
    "# Error on train data\n",
    "train_err_bow = 1-tr_score\n",
    "print(\"Train Error %f%%\" % (train_err_bow))"
   ]
  },
  {
   "cell_type": "code",
   "execution_count": 121,
   "metadata": {},
   "outputs": [
    {
     "name": "stdout",
     "output_type": "stream",
     "text": [
      "Accuracy on traning data is  0.8893771428571429\n"
     ]
    }
   ],
   "source": [
    "classifier = linear_model.SGDClassifier(penalty='l2', alpha=0.01, loss='hinge')\n",
    "classifier.fit(X_train, y_train)\n",
    "tr_score = classifier.score(X_train, y_train)\n",
    "print('Accuracy on traning data is ' , tr_score)"
   ]
  },
  {
   "cell_type": "code",
   "execution_count": 122,
   "metadata": {},
   "outputs": [
    {
     "name": "stdout",
     "output_type": "stream",
     "text": [
      "Train Error 0.110623%\n"
     ]
    }
   ],
   "source": [
    "# Error on train data\n",
    "train_err_bow = 1-tr_score\n",
    "print(\"Train Error %f%%\" % (train_err_bow))"
   ]
  },
  {
   "cell_type": "code",
   "execution_count": 123,
   "metadata": {},
   "outputs": [
    {
     "name": "stdout",
     "output_type": "stream",
     "text": [
      "Accuracy on traning data is  0.8999542857142857\n"
     ]
    }
   ],
   "source": [
    "classifier = linear_model.SGDClassifier(penalty='l2', alpha=0.001, loss='hinge')\n",
    "classifier.fit(X_train, y_train)\n",
    "tr_score = classifier.score(X_train, y_train)\n",
    "print('Accuracy on traning data is ' , tr_score)"
   ]
  },
  {
   "cell_type": "code",
   "execution_count": 124,
   "metadata": {},
   "outputs": [
    {
     "name": "stdout",
     "output_type": "stream",
     "text": [
      "Train Error 0.100046%\n"
     ]
    }
   ],
   "source": [
    "# Error on train data\n",
    "train_err_bow = 1-tr_score\n",
    "print(\"Train Error %f%%\" % (train_err_bow))"
   ]
  },
  {
   "cell_type": "code",
   "execution_count": 125,
   "metadata": {},
   "outputs": [
    {
     "name": "stdout",
     "output_type": "stream",
     "text": [
      "Accuracy on traning data is  0.8607257142857143\n"
     ]
    }
   ],
   "source": [
    "classifier = linear_model.SGDClassifier(penalty='l2', alpha=5, loss='hinge')\n",
    "classifier.fit(X_train, y_train)\n",
    "tr_score = classifier.score(X_train, y_train)\n",
    "print('Accuracy on traning data is ' , tr_score)"
   ]
  },
  {
   "cell_type": "code",
   "execution_count": 126,
   "metadata": {},
   "outputs": [
    {
     "name": "stdout",
     "output_type": "stream",
     "text": [
      "Train Error 0.139274%\n"
     ]
    }
   ],
   "source": [
    "# Error on train data\n",
    "train_err_bow = 1-tr_score\n",
    "print(\"Train Error %f%%\" % (train_err_bow))"
   ]
  },
  {
   "cell_type": "code",
   "execution_count": null,
   "metadata": {},
   "outputs": [],
   "source": []
  },
  {
   "cell_type": "code",
   "execution_count": 128,
   "metadata": {},
   "outputs": [
    {
     "data": {
      "image/png": "[encoded data removed]",
      "text/plain": [
       "<Figure size 432x288 with 1 Axes>"
      ]
     },
     "metadata": {},
     "output_type": "display_data"
    }
   ],
   "source": [
    "x= [0.1, 0.01 , 0.001, 5]\n",
    "y= [0.139274 , 0.110623,0.100046 ,0.139274]\n",
    "\n",
    "# importing the required module \n",
    "import matplotlib.pyplot as plt \n",
    "  \n",
    "# plotting the graph of train data error vs hyperparameter alpha\n",
    "plt.plot(x, y) \n",
    "  \n",
    "# naming the x axis \n",
    "plt.xlabel('x - axis') \n",
    "# naming the y axis \n",
    "plt.ylabel('y - axis') \n",
    "  \n",
    "# giving a title to my graph \n",
    "plt.title('CV Error') \n",
    "  \n",
    "# function to show the plot \n",
    "plt.show() "
   ]
  },
  {
   "cell_type": "markdown",
   "metadata": {},
   "source": [
    "### Avg W2V, TFIDF-W2V"
   ]
  },
  {
   "cell_type": "code",
   "execution_count": 246,
   "metadata": {},
   "outputs": [
    {
     "name": "stdout",
     "output_type": "stream",
     "text": [
      "(175000,) (75000,) (175000,) (75000,)\n"
     ]
    }
   ],
   "source": [
    "X_train, x_test, y_train, y_test = train_test_split(X, y, test_size = 0.3, shuffle = False)\n",
    "print(X_train.shape, x_test.shape, y_train.shape, y_test.shape)"
   ]
  },
  {
   "cell_type": "code",
   "execution_count": 247,
   "metadata": {},
   "outputs": [
    {
     "data": {
      "text/plain": [
       "<175000x1790910 sparse matrix of type '<class 'numpy.float64'>'\n",
       "\twith 11741170 stored elements in Compressed Sparse Row format>"
      ]
     },
     "execution_count": 247,
     "metadata": {},
     "output_type": "execute_result"
    }
   ],
   "source": [
    "from sklearn.feature_extraction.text import TfidfVectorizer\n",
    "\n",
    "#tfidf = TfidfVectorizer()\n",
    "#tfidf_data = tfidf.fit_transform(final_4000[\"CleanedText\"])\n",
    "#tfidf_data\n",
    "tf_idf_vect = TfidfVectorizer(ngram_range=(1,2))\n",
    "X_train = tf_idf_vect.fit_transform(X_train)\n",
    "X_train"
   ]
  },
  {
   "cell_type": "code",
   "execution_count": 248,
   "metadata": {},
   "outputs": [
    {
     "data": {
      "text/plain": [
       "(75000, 1790910)"
      ]
     },
     "execution_count": 248,
     "metadata": {},
     "output_type": "execute_result"
    }
   ],
   "source": [
    "# Convert test text data to its vectorizor\n",
    "x_test = tf_idf_vect.transform(x_test)\n",
    "x_test.shape"
   ]
  },
  {
   "cell_type": "code",
   "execution_count": 249,
   "metadata": {},
   "outputs": [],
   "source": [
    "# TF-IDF weighted Word2Vec\n",
    "tfidf_feat = tf_idf_vect.get_feature_names() # tfidf words/col-names\n",
    "# final_tf_idf is the sparse matrix with row= sentence, col=word and cell_val = tfidf\n",
    "\n",
    "tfidf_sent_vectors = []; # the tfidf-w2v for each sentence/review is stored in this list\n",
    "row=0;\n",
    "for sent in list_of_sent: # for each review/sentence\n",
    "    sent_vec = np.zeros(50) # as word vectors are of zero length\n",
    "    weight_sum =0; # num of words with a valid vector in the sentence/review\n",
    "    for word in sent: # for each word in a review/sentence\n",
    "        try:\n",
    "            vec = w2v_model.wv[word]\n",
    "            # obtain the tf_idfidf of a word in a sentence/review\n",
    "            tfidf = final_tf_idf[row, tfidf_feat.index(word)]\n",
    "            sent_vec += (vec * tf_idf)\n",
    "            weight_sum += tf_idf\n",
    "        except:\n",
    "            pass\n",
    "    sent_vec /= weight_sum\n",
    "    tfidf_sent_vectors.append(sent_vec)\n",
    "    row += 1  "
   ]
  },
  {
   "cell_type": "code",
   "execution_count": 250,
   "metadata": {},
   "outputs": [],
   "source": [
    "X_train = tfidf_sent_vectors"
   ]
  },
  {
   "cell_type": "code",
   "execution_count": 251,
   "metadata": {},
   "outputs": [],
   "source": [
    "# TF-IDF weighted Word2Vec\n",
    "tfidf_feat = tf_idf_vect.get_feature_names() # tfidf words/col-names\n",
    "# final_tf_idf is the sparse matrix with row= sentence, col=word and cell_val = tfidf\n",
    "\n",
    "tfidf_sent_vectors_test = []; # the tfidf-w2v for each sentence/review is stored in this list\n",
    "row=0;\n",
    "for sent in list_of_sent_test: # for each review/sentence\n",
    "    sent_vec = np.zeros(50) # as word vectors are of zero length\n",
    "    weight_sum =0; # num of words with a valid vector in the sentence/review\n",
    "    for word in sent: # for each word in a review/sentence\n",
    "        try:\n",
    "            vec = w2v_model.wv[word]\n",
    "            # obtain the tf_idfidf of a word in a sentence/review\n",
    "            tfidf = final_tf_idf[row, tfidf_feat.index(word)]\n",
    "            sent_vec += (vec * tf_idf)\n",
    "            weight_sum += tf_idf\n",
    "        except:\n",
    "            pass\n",
    "    sent_vec /= weight_sum\n",
    "    tfidf_sent_vectors_test.append(sent_vec)\n",
    "    row += 1  "
   ]
  },
  {
   "cell_type": "code",
   "execution_count": 252,
   "metadata": {},
   "outputs": [],
   "source": [
    "x_test = tfidf_sent_vectors_test"
   ]
  },
  {
   "cell_type": "code",
   "execution_count": 253,
   "metadata": {},
   "outputs": [],
   "source": [
    "X_train = np.nan_to_num(X_train)"
   ]
  },
  {
   "cell_type": "code",
   "execution_count": 254,
   "metadata": {},
   "outputs": [],
   "source": [
    "x_test = np.nan_to_num(x_test)"
   ]
  },
  {
   "cell_type": "markdown",
   "metadata": {},
   "source": [
    "### Training the SGDClassifier using GridSearchCV with L2 - Regularization"
   ]
  },
  {
   "cell_type": "code",
   "execution_count": 219,
   "metadata": {},
   "outputs": [
    {
     "data": {
      "text/plain": [
       "{'alpha': 1}"
      ]
     },
     "execution_count": 219,
     "metadata": {},
     "output_type": "execute_result"
    }
   ],
   "source": [
    "# training the SGDClassifier model , getting the best parameter\n",
    "\n",
    "svm = linear_model.SGDClassifier(loss='hinge')\n",
    "\n",
    "my_cv = TimeSeriesSplit(n_splits=2).split(X_train)\n",
    "grid_parameters = {'alpha':[1, 10, 100]}\n",
    "gridSearchModel = GridSearchCV(svm, grid_parameters, cv=my_cv)\n",
    "gridSearchModel.fit(X_train, y_train)\n",
    "gridSearchModel.best_params_\n"
   ]
  },
  {
   "cell_type": "code",
   "execution_count": 50,
   "metadata": {},
   "outputs": [
    {
     "name": "stdout",
     "output_type": "stream",
     "text": [
      "Accuracy on traning data is  0.9478\n"
     ]
    }
   ],
   "source": [
    "classifier = linear_model.SGDClassifier(penalty='l2', alpha=0.0001, loss='hinge')\n",
    "classifier.fit(X_train, y_train)\n",
    "tr_score = classifier.score(X_train, y_train)\n",
    "print('Accuracy on traning data is ' , tr_score)"
   ]
  },
  {
   "cell_type": "code",
   "execution_count": 51,
   "metadata": {},
   "outputs": [
    {
     "name": "stdout",
     "output_type": "stream",
     "text": [
      "Accuracy on test data is  0.8857733333333333\n"
     ]
    }
   ],
   "source": [
    "from sklearn.metrics import f1_score\n",
    "pred = classifier.predict(x_test)\n",
    "\n",
    "accuracy = f1_score(y_test, pred , average = 'micro')\n",
    "print ('Accuracy on test data is ',accuracy)"
   ]
  },
  {
   "cell_type": "code",
   "execution_count": 52,
   "metadata": {},
   "outputs": [
    {
     "name": "stdout",
     "output_type": "stream",
     "text": [
      "Train Error 0.052200%\n"
     ]
    }
   ],
   "source": [
    "# Error on train data\n",
    "train_err_bow = 1-tr_score\n",
    "print(\"Train Error %f%%\" % (train_err_bow))"
   ]
  },
  {
   "cell_type": "code",
   "execution_count": 53,
   "metadata": {},
   "outputs": [
    {
     "name": "stdout",
     "output_type": "stream",
     "text": [
      "[[ 4972  7874]\n",
      " [  693 61461]]\n"
     ]
    }
   ],
   "source": [
    "from sklearn.metrics import confusion_matrix\n",
    "cm = confusion_matrix(y_test, pred)\n",
    "print(cm)"
   ]
  },
  {
   "cell_type": "code",
   "execution_count": 55,
   "metadata": {},
   "outputs": [
    {
     "data": {
      "image/png": "[encoded data removed]",
      "text/plain": [
       "<Figure size 432x288 with 2 Axes>"
      ]
     },
     "metadata": {},
     "output_type": "display_data"
    }
   ],
   "source": [
    "Confusion_Matrix(y_test, pred)"
   ]
  },
  {
   "cell_type": "code",
   "execution_count": 188,
   "metadata": {},
   "outputs": [
    {
     "name": "stdout",
     "output_type": "stream",
     "text": [
      "[['aa' 'aagh' 'aah' 'aahh' 'aalmost' 'aamazon' 'aamzon' 'aand' 'aani'\n",
      "  'aap' 'aar' 'aardvark' 'aarrgh' 'ab' 'aback' 'abalon' 'abamectin'\n",
      "  'abandn' 'abandon' 'abaolut' 'abat' 'abattoir' 'aafter' 'aafco' 'aaf'\n",
      "  'aadp' 'aaa' 'aaaa' 'aaaaaaaaaaaaaaaaaaaargh' 'aaaaaaaaagghh'\n",
      "  'aaaaaaarrrrrggghhh' 'aaaaaahhh' 'aaaaaahhhh' 'aaaaaahhhhhyaaaaaa'\n",
      "  'aaaaaand' 'aaaaah' 'abba' 'aaaaahhhhhhhhhhhhhhhh' 'aaaah' 'aaaahhhhhh'\n",
      "  'aaaand' 'aaagh' 'aaah' 'aaahhh' 'aaahhhhhh' 'aachen' 'aacur' 'aad'\n",
      "  'aaaaawsom' 'abbazabba']]\n",
      "[['aa' 'aagh' 'aah' 'aahh' 'aalmost' 'aamazon' 'aamzon' 'aand' 'aani'\n",
      "  'aap' 'aar' 'aardvark' 'aarrgh' 'ab' 'aback' 'abalon' 'abamectin'\n",
      "  'abandn' 'abandon' 'abaolut' 'abat' 'abattoir' 'aafter' 'aafco' 'aaf'\n",
      "  'aadp' 'aaa' 'aaaa' 'aaaaaaaaaaaaaaaaaaaargh' 'aaaaaaaaagghh'\n",
      "  'aaaaaaarrrrrggghhh' 'aaaaaahhh' 'aaaaaahhhh' 'aaaaaahhhhhyaaaaaa'\n",
      "  'aaaaaand' 'aaaaah' 'abba' 'aaaaahhhhhhhhhhhhhhhh' 'aaaah' 'aaaahhhhhh'\n",
      "  'aaaand' 'aaagh' 'aaah' 'aaahhh' 'aaahhhhhh' 'aachen' 'aacur' 'aad'\n",
      "  'aaaaawsom' 'abbazabba']]\n"
     ]
    }
   ],
   "source": [
    "# Feature importance \n",
    "\n",
    "pos_feat  = classifier.coef_[:10].argsort()\n",
    "neg_feat  = classifier.coef_[:10].argsort()\n",
    "\n",
    "print(np.take(abc.get_feature_names() , neg_feat[:10]))\n",
    "print(np.take(abc.get_feature_names() , pos_feat[:10]))"
   ]
  },
  {
   "cell_type": "code",
   "execution_count": 224,
   "metadata": {},
   "outputs": [
    {
     "name": "stdout",
     "output_type": "stream",
     "text": [
      "Accuracy on traning data is  0.8607257142857143\n"
     ]
    }
   ],
   "source": [
    "classifier = linear_model.SGDClassifier(penalty='l2', alpha=0.1, loss='hinge')\n",
    "classifier.fit(X_train, y_train)\n",
    "tr_score = classifier.score(X_train, y_train)\n",
    "print('Accuracy on traning data is ' , tr_score)"
   ]
  },
  {
   "cell_type": "code",
   "execution_count": 225,
   "metadata": {},
   "outputs": [
    {
     "name": "stdout",
     "output_type": "stream",
     "text": [
      "Train Error 0.139274%\n"
     ]
    }
   ],
   "source": [
    "# Error on train data\n",
    "train_err_bow = 1-tr_score\n",
    "print(\"Train Error %f%%\" % (train_err_bow))"
   ]
  },
  {
   "cell_type": "code",
   "execution_count": 226,
   "metadata": {},
   "outputs": [
    {
     "name": "stdout",
     "output_type": "stream",
     "text": [
      "Accuracy on traning data is  0.8985085714285714\n"
     ]
    }
   ],
   "source": [
    "classifier = linear_model.SGDClassifier(penalty='l2', alpha=0.001, loss='hinge')\n",
    "classifier.fit(X_train, y_train)\n",
    "tr_score = classifier.score(X_train, y_train)\n",
    "print('Accuracy on traning data is ' , tr_score)"
   ]
  },
  {
   "cell_type": "code",
   "execution_count": 227,
   "metadata": {},
   "outputs": [
    {
     "name": "stdout",
     "output_type": "stream",
     "text": [
      "Train Error 0.101491%\n"
     ]
    }
   ],
   "source": [
    "# Error on train data\n",
    "train_err_bow = 1-tr_score\n",
    "print(\"Train Error %f%%\" % (train_err_bow))"
   ]
  },
  {
   "cell_type": "code",
   "execution_count": 228,
   "metadata": {},
   "outputs": [
    {
     "name": "stdout",
     "output_type": "stream",
     "text": [
      "Accuracy on traning data is  0.8932457142857143\n"
     ]
    }
   ],
   "source": [
    "classifier = linear_model.SGDClassifier(penalty='l2', alpha=0.0001, loss='hinge')\n",
    "classifier.fit(X_train, y_train)\n",
    "tr_score = classifier.score(X_train, y_train)\n",
    "print('Accuracy on traning data is ' , tr_score)"
   ]
  },
  {
   "cell_type": "code",
   "execution_count": 232,
   "metadata": {},
   "outputs": [
    {
     "name": "stdout",
     "output_type": "stream",
     "text": [
      "Train Error 0.139274%\n"
     ]
    }
   ],
   "source": [
    "# Error on train data\n",
    "train_err_bow = 1-tr_score\n",
    "print(\"Train Error %f%%\" % (train_err_bow))"
   ]
  },
  {
   "cell_type": "code",
   "execution_count": 230,
   "metadata": {},
   "outputs": [
    {
     "name": "stdout",
     "output_type": "stream",
     "text": [
      "Accuracy on traning data is  0.8607257142857143\n"
     ]
    }
   ],
   "source": [
    "classifier = linear_model.SGDClassifier(penalty='l2', alpha=5, loss='hinge')\n",
    "classifier.fit(X_train, y_train)\n",
    "tr_score = classifier.score(X_train, y_train)\n",
    "print('Accuracy on traning data is ' , tr_score)"
   ]
  },
  {
   "cell_type": "code",
   "execution_count": 231,
   "metadata": {},
   "outputs": [
    {
     "name": "stdout",
     "output_type": "stream",
     "text": [
      "Train Error 0.139274%\n"
     ]
    }
   ],
   "source": [
    "# Error on train data\n",
    "train_err_bow = 1-tr_score\n",
    "print(\"Train Error %f%%\" % (train_err_bow))"
   ]
  },
  {
   "cell_type": "code",
   "execution_count": 233,
   "metadata": {},
   "outputs": [
    {
     "data": {
      "image/png": "[encoded data removed]",
      "text/plain": [
       "<Figure size 432x288 with 1 Axes>"
      ]
     },
     "metadata": {},
     "output_type": "display_data"
    }
   ],
   "source": [
    "x= [0.1, 0.01 , 0.001, 5]\n",
    "y= [0.139274 , 0.101491,0.106754 ,0.139274]\n",
    "\n",
    "# importing the required module \n",
    "import matplotlib.pyplot as plt \n",
    "  \n",
    "# plotting the graph of train data error vs hyperparameter alpha\n",
    "plt.plot(x, y) \n",
    "  \n",
    "# naming the x axis \n",
    "plt.xlabel('x - axis') \n",
    "# naming the y axis \n",
    "plt.ylabel('y - axis') \n",
    "  \n",
    "# giving a title to my graph \n",
    "plt.title('CV Error') \n",
    "  \n",
    "# function to show the plot \n",
    "plt.show() "
   ]
  },
  {
   "cell_type": "markdown",
   "metadata": {},
   "source": [
    "### Training the SGDClassifier using Random Search with L2 - Regularization"
   ]
  },
  {
   "cell_type": "code",
   "execution_count": 234,
   "metadata": {},
   "outputs": [
    {
     "data": {
      "text/plain": [
       "{'alpha': 0.851786088103048}"
      ]
     },
     "execution_count": 234,
     "metadata": {},
     "output_type": "execute_result"
    }
   ],
   "source": [
    "from sklearn.model_selection import RandomizedSearchCV\n",
    "from scipy.stats import uniform\n",
    "\n",
    "svm = linear_model.SGDClassifier(loss='hinge')\n",
    "my_cv = TimeSeriesSplit(n_splits=2).split(X_train)\n",
    "\n",
    "random_parameters = {'alpha':uniform()}\n",
    "randomSearchModel = RandomizedSearchCV(svm, random_parameters, cv=my_cv)\n",
    "randomSearchModel.fit(X_train, y_train)\n",
    "randomSearchModel.best_params_"
   ]
  },
  {
   "cell_type": "code",
   "execution_count": 61,
   "metadata": {},
   "outputs": [
    {
     "name": "stdout",
     "output_type": "stream",
     "text": [
      "Accuracy on traning data is  0.9568457142857143\n"
     ]
    }
   ],
   "source": [
    "classifier = linear_model.SGDClassifier(penalty='l2', alpha=0.01, loss='hinge')\n",
    "classifier.fit(X_train, y_train)\n",
    "tr_score = classifier.score(X_train, y_train)\n",
    "print('Accuracy on traning data is ' , tr_score)"
   ]
  },
  {
   "cell_type": "code",
   "execution_count": 62,
   "metadata": {},
   "outputs": [
    {
     "name": "stdout",
     "output_type": "stream",
     "text": [
      "Accuracy on test data is  0.8590266666666667\n"
     ]
    }
   ],
   "source": [
    "pred = classifier.predict(x_test)\n",
    "\n",
    "accuracy = f1_score(y_test, pred , average = 'micro')\n",
    "print ('Accuracy on test data is ',accuracy)"
   ]
  },
  {
   "cell_type": "code",
   "execution_count": 63,
   "metadata": {},
   "outputs": [
    {
     "name": "stdout",
     "output_type": "stream",
     "text": [
      "Train Error 0.043154%\n"
     ]
    }
   ],
   "source": [
    "# Error on train data\n",
    "train_err_bow = 1-tr_score\n",
    "print(\"Train Error %f%%\" % (train_err_bow))"
   ]
  },
  {
   "cell_type": "code",
   "execution_count": 64,
   "metadata": {},
   "outputs": [
    {
     "name": "stdout",
     "output_type": "stream",
     "text": [
      "[[ 2394 10452]\n",
      " [  121 62033]]\n"
     ]
    }
   ],
   "source": [
    "from sklearn.metrics import confusion_matrix\n",
    "cm = confusion_matrix(y_test, pred)\n",
    "print(cm)"
   ]
  },
  {
   "cell_type": "code",
   "execution_count": 65,
   "metadata": {},
   "outputs": [
    {
     "data": {
      "image/png": "[encoded data removed]",
      "text/plain": [
       "<Figure size 432x288 with 2 Axes>"
      ]
     },
     "metadata": {},
     "output_type": "display_data"
    }
   ],
   "source": [
    "Confusion_Matrix(y_test, pred)"
   ]
  },
  {
   "cell_type": "code",
   "execution_count": 137,
   "metadata": {},
   "outputs": [
    {
     "name": "stdout",
     "output_type": "stream",
     "text": [
      "[['aa' 'aacur' 'aadp' 'aaf' 'aafco' 'aafter' 'aagh' 'aah' 'aamazon'\n",
      "  'aamzon' 'aana' 'aand' 'aani' 'aardvark' 'aarp' 'aarrgh' 'aarthur' 'ab'\n",
      "  'aback' 'abalon' 'abamectin' 'abandon' 'aachen' 'aabsolut' 'aaahhhhhh'\n",
      "  'aaahhh' 'aaa' 'aaaa' 'aaaaa'\n",
      "  'aaaaaaaaaaaaaaaaaaaaaaaaaaaaaaaaaaaaaaaaaaaa'\n",
      "  'aaaaaaaaaaaaaaaaaaaargh' 'aaaaaaaaagghh' 'aaaaaaahhhhhh'\n",
      "  'aaaaaaarrrrrggghhh' 'aaaaaahhh' 'aaaaaahhhh' 'abaolut'\n",
      "  'aaaaaahhhhhyaaaaaa' 'aaaaaawwwwwwwwww' 'aaaaah'\n",
      "  'aaaaahhhhhhhhhhhhhhhh' 'aaaaawsom' 'aaaah' 'aaaahhhhhh' 'aaaallll'\n",
      "  'aaaand' 'aaagh' 'aaah' 'aaaaaand' 'abat']]\n",
      "[['aa' 'aacur' 'aadp' 'aaf' 'aafco' 'aafter' 'aagh' 'aah' 'aamazon'\n",
      "  'aamzon' 'aana' 'aand' 'aani' 'aardvark' 'aarp' 'aarrgh' 'aarthur' 'ab'\n",
      "  'aback' 'abalon' 'abamectin' 'abandon' 'aachen' 'aabsolut' 'aaahhhhhh'\n",
      "  'aaahhh' 'aaa' 'aaaa' 'aaaaa'\n",
      "  'aaaaaaaaaaaaaaaaaaaaaaaaaaaaaaaaaaaaaaaaaaaa'\n",
      "  'aaaaaaaaaaaaaaaaaaaargh' 'aaaaaaaaagghh' 'aaaaaaahhhhhh'\n",
      "  'aaaaaaarrrrrggghhh' 'aaaaaahhh' 'aaaaaahhhh' 'abaolut'\n",
      "  'aaaaaahhhhhyaaaaaa' 'aaaaaawwwwwwwwww' 'aaaaah'\n",
      "  'aaaaahhhhhhhhhhhhhhhh' 'aaaaawsom' 'aaaah' 'aaaahhhhhh' 'aaaallll'\n",
      "  'aaaand' 'aaagh' 'aaah' 'aaaaaand' 'abat']]\n"
     ]
    }
   ],
   "source": [
    "# Feature importance \n",
    "\n",
    "pos_feat  = classifier.coef_[:10].argsort()\n",
    "neg_feat  = classifier.coef_[:10].argsort()\n",
    "\n",
    "print(np.take(abc.get_feature_names() , neg_feat[:10]))\n",
    "print(np.take(abc.get_feature_names() , pos_feat[:10]))"
   ]
  },
  {
   "cell_type": "code",
   "execution_count": 279,
   "metadata": {},
   "outputs": [
    {
     "name": "stdout",
     "output_type": "stream",
     "text": [
      "Accuracy on traning data is  0.9525885714285715\n"
     ]
    }
   ],
   "source": [
    "classifier = linear_model.SGDClassifier(penalty='l2', alpha=0.1, loss='hinge')\n",
    "classifier.fit(X_train, y_train)\n",
    "tr_score = classifier.score(X_train, y_train)\n",
    "print('Accuracy on traning data is ' , tr_score)"
   ]
  },
  {
   "cell_type": "code",
   "execution_count": 280,
   "metadata": {},
   "outputs": [
    {
     "name": "stdout",
     "output_type": "stream",
     "text": [
      "Train Error 0.047411%\n"
     ]
    }
   ],
   "source": [
    "# Error on train data\n",
    "train_err_bow = 1-tr_score\n",
    "print(\"Train Error %f%%\" % (train_err_bow))"
   ]
  },
  {
   "cell_type": "code",
   "execution_count": 281,
   "metadata": {},
   "outputs": [
    {
     "name": "stdout",
     "output_type": "stream",
     "text": [
      "Accuracy on traning data is  0.9565657142857142\n"
     ]
    }
   ],
   "source": [
    "classifier = linear_model.SGDClassifier(penalty='l2', alpha=0.01, loss='hinge')\n",
    "classifier.fit(X_train, y_train)\n",
    "tr_score = classifier.score(X_train, y_train)\n",
    "print('Accuracy on traning data is ' , tr_score)"
   ]
  },
  {
   "cell_type": "code",
   "execution_count": 282,
   "metadata": {},
   "outputs": [
    {
     "name": "stdout",
     "output_type": "stream",
     "text": [
      "Train Error 0.043434%\n"
     ]
    }
   ],
   "source": [
    "# Error on train data\n",
    "train_err_bow = 1-tr_score\n",
    "print(\"Train Error %f%%\" % (train_err_bow))"
   ]
  },
  {
   "cell_type": "code",
   "execution_count": 283,
   "metadata": {},
   "outputs": [
    {
     "name": "stdout",
     "output_type": "stream",
     "text": [
      "Accuracy on traning data is  0.9511028571428571\n"
     ]
    }
   ],
   "source": [
    "classifier = linear_model.SGDClassifier(penalty='l2', alpha=0.001, loss='hinge')\n",
    "classifier.fit(X_train, y_train)\n",
    "tr_score = classifier.score(X_train, y_train)\n",
    "print('Accuracy on traning data is ' , tr_score)"
   ]
  },
  {
   "cell_type": "code",
   "execution_count": 284,
   "metadata": {},
   "outputs": [
    {
     "name": "stdout",
     "output_type": "stream",
     "text": [
      "Train Error 0.048897%\n"
     ]
    }
   ],
   "source": [
    "# Error on train data\n",
    "train_err_bow = 1-tr_score\n",
    "print(\"Train Error %f%%\" % (train_err_bow))"
   ]
  },
  {
   "cell_type": "code",
   "execution_count": 285,
   "metadata": {},
   "outputs": [
    {
     "name": "stdout",
     "output_type": "stream",
     "text": [
      "Accuracy on traning data is  0.8677542857142857\n"
     ]
    }
   ],
   "source": [
    "classifier = linear_model.SGDClassifier(penalty='l2', alpha=5, loss='hinge')\n",
    "classifier.fit(X_train, y_train)\n",
    "tr_score = classifier.score(X_train, y_train)\n",
    "print('Accuracy on traning data is ' , tr_score)"
   ]
  },
  {
   "cell_type": "code",
   "execution_count": 286,
   "metadata": {},
   "outputs": [
    {
     "name": "stdout",
     "output_type": "stream",
     "text": [
      "Train Error 0.132246%\n"
     ]
    }
   ],
   "source": [
    "# Error on train data\n",
    "train_err_bow = 1-tr_score\n",
    "print(\"Train Error %f%%\" % (train_err_bow))"
   ]
  },
  {
   "cell_type": "code",
   "execution_count": 288,
   "metadata": {},
   "outputs": [
    {
     "data": {
      "image/png": "[encoded data removed]",
      "text/plain": [
       "<Figure size 432x288 with 1 Axes>"
      ]
     },
     "metadata": {},
     "output_type": "display_data"
    }
   ],
   "source": [
    "x= [ 0 , 0.01, 0.001 , 5]\n",
    "y= [ 0.047411,0.043434,0.048897 ,0.132246]\n",
    "\n",
    "# importing the required module \n",
    "import matplotlib.pyplot as plt \n",
    "  \n",
    "# plotting the graph of train data error vs hyperparameter alpha\n",
    "plt.plot(x, y) \n",
    "  \n",
    "# naming the x axis \n",
    "plt.xlabel('x - axis') \n",
    "# naming the y axis \n",
    "plt.ylabel('y - axis') \n",
    "  \n",
    "# giving a title to my graph \n",
    "plt.title('CV Error') \n",
    "  \n",
    "# function to show the plot \n",
    "plt.show() "
   ]
  },
  {
   "cell_type": "markdown",
   "metadata": {},
   "source": [
    "## Performing SVC on BOG"
   ]
  },
  {
   "cell_type": "code",
   "execution_count": 313,
   "metadata": {},
   "outputs": [],
   "source": [
    "from sklearn.svm import SVC"
   ]
  },
  {
   "cell_type": "markdown",
   "metadata": {},
   "source": [
    "### Using Gridsearch CV"
   ]
  },
  {
   "cell_type": "code",
   "execution_count": 314,
   "metadata": {},
   "outputs": [
    {
     "data": {
      "text/plain": [
       "{'gamma': 0.01}"
      ]
     },
     "execution_count": 314,
     "metadata": {},
     "output_type": "execute_result"
    }
   ],
   "source": [
    "# training the SVM model , getting the best parameter\n",
    "\n",
    "svm_bog = SVC(kernel='rbf')\n",
    "\n",
    "grid_parameters = {'gamma':[10**-2, 10**-1, 1, 10, 100]}\n",
    "my_cv = TimeSeriesSplit(n_splits=2).split(X_train)\n",
    "gridSearchModel = GridSearchCV(svm_bog, grid_parameters, cv=my_cv)\n",
    "gridSearchModel.fit(X_train, y_train)\n",
    "gridSearchModel.best_params_"
   ]
  },
  {
   "cell_type": "code",
   "execution_count": 148,
   "metadata": {},
   "outputs": [
    {
     "name": "stdout",
     "output_type": "stream",
     "text": [
      "Accuracy on traning data is  0.94746\n"
     ]
    }
   ],
   "source": [
    "classifier = SVC(gamma = 0.01)\n",
    "classifier.fit(X_train, y_train)\n",
    "tr_score = classifier.score(X_train, y_train)\n",
    "print('Accuracy on traning data is ' , tr_score)"
   ]
  },
  {
   "cell_type": "code",
   "execution_count": 149,
   "metadata": {},
   "outputs": [
    {
     "name": "stdout",
     "output_type": "stream",
     "text": [
      "Accuracy on test data is  0.9137866666666666\n"
     ]
    }
   ],
   "source": [
    "pred = classifier.predict(x_test)\n",
    "\n",
    "accuracy = f1_score(y_test, pred , average = 'micro')\n",
    "print ('Accuracy on test data is ',accuracy)"
   ]
  },
  {
   "cell_type": "code",
   "execution_count": 152,
   "metadata": {},
   "outputs": [
    {
     "name": "stdout",
     "output_type": "stream",
     "text": [
      "Train Error 0.052540%\n"
     ]
    }
   ],
   "source": [
    "# Error on train data\n",
    "train_err_bow = 1-tr_score\n",
    "print(\"Train Error %f%%\" % (train_err_bow))"
   ]
  },
  {
   "cell_type": "code",
   "execution_count": 150,
   "metadata": {},
   "outputs": [
    {
     "name": "stdout",
     "output_type": "stream",
     "text": [
      "[[ 5442  5643]\n",
      " [  823 63092]]\n"
     ]
    }
   ],
   "source": [
    "from sklearn.metrics import confusion_matrix\n",
    "cm = confusion_matrix(y_test, pred)\n",
    "print(cm)"
   ]
  },
  {
   "cell_type": "code",
   "execution_count": 151,
   "metadata": {},
   "outputs": [
    {
     "data": {
      "image/png": "[encoded data removed]",
      "text/plain": [
       "<Figure size 432x288 with 2 Axes>"
      ]
     },
     "metadata": {},
     "output_type": "display_data"
    }
   ],
   "source": [
    "Confusion_Matrix(y_test, pred)"
   ]
  },
  {
   "cell_type": "markdown",
   "metadata": {},
   "source": [
    "### Using Random search CV"
   ]
  },
  {
   "cell_type": "code",
   "execution_count": 41,
   "metadata": {},
   "outputs": [
    {
     "data": {
      "text/plain": [
       "{'gamma': 0.05489520558343397}"
      ]
     },
     "execution_count": 41,
     "metadata": {},
     "output_type": "execute_result"
    }
   ],
   "source": [
    "from sklearn.model_selection import RandomizedSearchCV\n",
    "from scipy.stats import uniform\n",
    "\n",
    "svm_bog = SVC(kernel='rbf')\n",
    "my_cv = TimeSeriesSplit(n_splits=2).split(X_train)\n",
    "random_parameters = {'gamma':uniform()}\n",
    "randomSearchModel = RandomizedSearchCV(svm_bog, random_parameters, cv=my_cv)\n",
    "randomSearchModel.fit(X_train, y_train)\n",
    "randomSearchModel.best_params_"
   ]
  },
  {
   "cell_type": "code",
   "execution_count": 55,
   "metadata": {},
   "outputs": [
    {
     "name": "stdout",
     "output_type": "stream",
     "text": [
      "Accuracy on traning data is  0.9872\n"
     ]
    }
   ],
   "source": [
    "classifier = SVC(gamma = 0.05489520558343397)\n",
    "classifier.fit(X_train, y_train)\n",
    "tr_score = classifier.score(X_train, y_train)\n",
    "print('Accuracy on traning data is ' , tr_score)"
   ]
  },
  {
   "cell_type": "code",
   "execution_count": 56,
   "metadata": {},
   "outputs": [
    {
     "name": "stdout",
     "output_type": "stream",
     "text": [
      "Train Error 0.012800%\n"
     ]
    }
   ],
   "source": [
    "# Error on train data\n",
    "train_err_bow = 1-tr_score\n",
    "print(\"Train Error %f%%\" % (train_err_bow))"
   ]
  },
  {
   "cell_type": "code",
   "execution_count": 57,
   "metadata": {},
   "outputs": [
    {
     "name": "stdout",
     "output_type": "stream",
     "text": [
      "Accuracy on test data is  0.8650933333333334\n"
     ]
    }
   ],
   "source": [
    "pred = classifier.predict(x_test)\n",
    "\n",
    "accuracy = metrics.accuracy_score(y_test, pred)\n",
    "print ('Accuracy on test data is ',accuracy)"
   ]
  },
  {
   "cell_type": "code",
   "execution_count": 45,
   "metadata": {},
   "outputs": [
    {
     "name": "stdout",
     "output_type": "stream",
     "text": [
      "[[ 1200  9973]\n",
      " [  123 63704]]\n"
     ]
    }
   ],
   "source": [
    "from sklearn.metrics import confusion_matrix\n",
    "cm = confusion_matrix(y_test, pred)\n",
    "print(cm)"
   ]
  },
  {
   "cell_type": "code",
   "execution_count": 46,
   "metadata": {
    "scrolled": true
   },
   "outputs": [
    {
     "data": {
      "image/png": "[encoded data removed]",
      "text/plain": [
       "<Figure size 432x288 with 2 Axes>"
      ]
     },
     "metadata": {},
     "output_type": "display_data"
    }
   ],
   "source": [
    "Confusion_Matrix(y_test, pred)"
   ]
  },
  {
   "cell_type": "code",
   "execution_count": 16,
   "metadata": {},
   "outputs": [
    {
     "name": "stdout",
     "output_type": "stream",
     "text": [
      "+-------------+--------------------------------------------+----------+\n",
      "|    Method   |  SGDClassifier(hinge_loss) Algorithm with  | Accuracy |\n",
      "+-------------+--------------------------------------------+----------+\n",
      "|     BOG     |               GridSearchCV                 | 0.86905  |\n",
      "|     BOG     |              Random Search                 | 0.84010  |\n",
      "|    TFIDF    |               GridSearchCV                 | 0.83183  |\n",
      "|    TFIDF    |               Random Search                | 0.89397  |\n",
      "|     W2V     |                GridSearchCV                | 0.86952  |\n",
      "|     W2V     |               Random Search                | 0.83284  |\n",
      "| TFIDF - W2V |                GridSearchCV                | 0.88572  |\n",
      "| TFIDF - W2V |               Random Search                | 0.85902  |\n",
      "|     SVC     |                GridSearchCV                | 0.91372  |\n",
      "|     SVC     |               Random Search                | 0.86509  |\n",
      "+-------------+--------------------------------------------+----------+\n"
     ]
    }
   ],
   "source": [
    "from prettytable import PrettyTable\n",
    "    \n",
    "x = PrettyTable()\n",
    "\n",
    "x.field_names = [\"Method\", \" SGDClassifier(hinge_loss) Algorithm with \" ,  \"Accuracy\"]\n",
    "\n",
    "x.add_row([\"BOG\", 'GridSearchCV ',  '0.86905'])\n",
    "x.add_row([\"BOG\", 'Random Search  ', '0.84010'])\n",
    "\n",
    "x.add_row([\"TFIDF\", 'GridSearchCV ',   '0.83183'])\n",
    "x.add_row([\"TFIDF\", ' Random Search ','0.89397'])\n",
    "\n",
    "x.add_row([\"W2V\",'GridSearchCV' , '0.86952'])\n",
    "x.add_row([\"W2V\",'Random Search' ,'0.83284'])\n",
    "\n",
    "x.add_row([\"TFIDF - W2V\",'GridSearchCV' ,  '0.88572'])\n",
    "x.add_row([\"TFIDF - W2V\",'Random Search' , '0.85902'])\n",
    "\n",
    "x.add_row([\"SVC\",'GridSearchCV' ,  '0.91372'])\n",
    "x.add_row([\"SVC\",'Random Search' , '0.86509'])\n",
    "\n",
    "\n",
    "print(x)"
   ]
  },
  {
   "cell_type": "markdown",
   "metadata": {},
   "source": [
    "# Observations : - \n",
    "\n",
    "\n",
    "#### All of the above results with different technique of BOG, TFIDF,W2V, TFIDF-W2v varys for L2 regulization with both GridSearchCV & Random Search,  for SGDClassifier(hinge_loss) Algorithm  algorithm. Out of all of , SVC  with  GridSearchCV - L2 gives us highest accuracy of aprox 91.37%"
   ]
  },
  {
   "cell_type": "code",
   "execution_count": null,
   "metadata": {},
   "outputs": [],
   "source": []
  }
 ],
 "metadata": {
  "kernelspec": {
   "display_name": "Python 3",
   "language": "python",
   "name": "python3"
  },
  "language_info": {
   "codemirror_mode": {
    "name": "ipython",
    "version": 3
   },
   "file_extension": ".py",
   "mimetype": "text/x-python",
   "name": "python",
   "nbconvert_exporter": "python",
   "pygments_lexer": "ipython3",
   "version": "3.5.3"
  }
 },
 "nbformat": 4,
 "nbformat_minor": 2
}
